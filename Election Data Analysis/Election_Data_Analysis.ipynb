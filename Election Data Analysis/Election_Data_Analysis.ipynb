{
 "cells": [
  {
   "cell_type": "markdown",
   "metadata": {},
   "source": [
    "\n",
    "\n",
    "## Single-file queries:\n",
    "* List all individuals who donated a TOTAL of over 100,000 dollars. Show name, city, state, employer, occupation, and total amount. [Tip: You must groupby name+city+state or by name+zipcode]\n",
    "* List top 10 cities by total individual donations. Try creating a visual barchart with matplotlib.\n"
   ]
  },
  {
   "cell_type": "markdown",
   "metadata": {},
   "source": [
    "\n",
    "### Data Set: Federal Elections Commission\n",
    "\n",
    "http://classic.fec.gov/finance/disclosure/ftpdet.shtml files for download and the metadata.\n",
    "\n",
    "\n",
    " \n",
    "\n",
    "\n"
   ]
  },
  {
   "cell_type": "markdown",
   "metadata": {},
   "source": [
    "## Multi-file queries (needing merge or join).  Some of these are good ways to see corruption in action:\n",
    "* Find people who donated over 5000 directly to a Senate or House candidate who's not even in their own state, and show the details. [Tip: You'll need to compare the candidate's state to the individual donor's state after you get them joined.]\n",
    " http://classic.fec.gov/finance/disclosure/metadata/DataDictionaryPartyCodeDescriptions.shtml]\n",
    "\n",
    "* Download all 3 individual donations files (itcont.txt) from 2014, 2016, and 2018. Figure out how to concatenate them (just the columns you need) into a single DataFrame covering that whole range from 2013-2018. Then use that to compute an analysis of questions such as:\n",
    "    * Political activity is much higher for Presidential elections than in other years. Find out whether the level of donations to Senate and House campaigns goes up or down at that time compared to other years.\n",
    "    * Find out how many and what percentage of individual donors have contributed to BOTH a Democratic and a Republican candidate at some point.\n",
    "    "
   ]
  },
  {
   "cell_type": "markdown",
   "metadata": {},
   "source": [
    "IMPORTING Pandas library as pd and numpy library as np"
   ]
  },
  {
   "cell_type": "code",
   "execution_count": 1,
   "metadata": {
    "collapsed": true
   },
   "outputs": [],
   "source": [
    "import pandas as pd\n",
    "import matplotlib.pyplot as plt\n"
   ]
  },
  {
   "cell_type": "markdown",
   "metadata": {},
   "source": [
    "#Specifing the path where all data set files are kept along with header files of each data set"
   ]
  },
  {
   "cell_type": "code",
   "execution_count": 5,
   "metadata": {
    "collapsed": true
   },
   "outputs": [],
   "source": [
    "my_dir = './Files/'\n",
    "indiv_header_file = my_dir + 'indiv_header_file.csv'\n",
    "indiv_file = my_dir + 'itcont.txt' # individual donations\n",
    "\n"
   ]
  },
  {
   "cell_type": "markdown",
   "metadata": {},
   "source": [
    "#Creating Function for reading the header file of individual data set"
   ]
  },
  {
   "cell_type": "code",
   "execution_count": 6,
   "metadata": {
    "collapsed": true
   },
   "outputs": [],
   "source": [
    "def get_columns(header_file) -> list:\n",
    "    with open(header_file, 'r') as hf:\n",
    "        top_line = hf.readline().strip()\n",
    "    return top_line.split(',')"
   ]
  },
  {
   "cell_type": "markdown",
   "metadata": {},
   "source": [
    "#Calling the function for reading the header file of individual donation "
   ]
  },
  {
   "cell_type": "code",
   "execution_count": 7,
   "metadata": {},
   "outputs": [],
   "source": [
    "# Read the Individual donation file header:\n",
    "indiv_cols = get_columns(indiv_header_file)"
   ]
  },
  {
   "cell_type": "markdown",
   "metadata": {},
   "source": [
    "#Printing the headers of individual donation file"
   ]
  },
  {
   "cell_type": "code",
   "execution_count": 8,
   "metadata": {},
   "outputs": [
    {
     "data": {
      "text/plain": [
       "['CMTE_ID',\n",
       " 'AMNDT_IND',\n",
       " 'RPT_TP',\n",
       " 'TRANSACTION_PGI',\n",
       " 'IMAGE_NUM',\n",
       " 'TRANSACTION_TP',\n",
       " 'ENTITY_TP',\n",
       " 'NAME',\n",
       " 'CITY',\n",
       " 'STATE',\n",
       " 'ZIP_CODE',\n",
       " 'EMPLOYER',\n",
       " 'OCCUPATION',\n",
       " 'TRANSACTION_DT',\n",
       " 'TRANSACTION_AMT',\n",
       " 'OTHER_ID',\n",
       " 'TRAN_ID',\n",
       " 'FILE_NUM',\n",
       " 'MEMO_CD',\n",
       " 'MEMO_TEXT',\n",
       " 'SUB_ID']"
      ]
     },
     "execution_count": 8,
     "metadata": {},
     "output_type": "execute_result"
    }
   ],
   "source": [
    "indiv_cols"
   ]
  },
  {
   "cell_type": "markdown",
   "metadata": {},
   "source": [
    "#Reading the individual donation file by using pandas reader function"
   ]
  },
  {
   "cell_type": "code",
   "execution_count": 9,
   "metadata": {},
   "outputs": [
    {
     "name": "stderr",
     "output_type": "stream",
     "text": [
      "C:\\Users\\tejve\\Anaconda3\\lib\\site-packages\\numpy\\lib\\arraysetops.py:395: FutureWarning: elementwise comparison failed; returning scalar instead, but in the future will perform elementwise comparison\n",
      "  mask |= (ar1 == a)\n"
     ]
    }
   ],
   "source": [
    "\n",
    "#  NOTE: The unique ID is the LAST column, not the first\n",
    "\n",
    "my_date_parser = lambda dates: [pd.datetime.strptime(d, '%d%m%Y') for d in dates]\n",
    "\n",
    "indiv = pd.read_csv(indiv_file, sep='|', index_col='SUB_ID', \n",
    "                    names=indiv_cols,\n",
    "                    usecols=['NAME','CITY','STATE','ZIP_CODE',\n",
    "                            'EMPLOYER','OCCUPATION',\n",
    "                            'TRANSACTION_DT','TRANSACTION_AMT',\n",
    "                            'CMTE_ID','ENTITY_TP','SUB_ID'],\n",
    "                    dtype={'ZIP_CODE':str,'TRANSACTION_AMT':int,'CMTE_ID':str}\n",
    "                    \n",
    "                    )"
   ]
  },
  {
   "cell_type": "markdown",
   "metadata": {},
   "source": [
    "* Question 1 .\n",
    "List all individuals who donated a TOTAL of over 100,000 dollars. Show name, city, state, employer, occupation, and total amount. [Tip: You must groupby name+city+state or by name+zipcode]\n",
    "\n",
    "#Reading the First 5 rows of individual donation file"
   ]
  },
  {
   "cell_type": "code",
   "execution_count": 11,
   "metadata": {
    "scrolled": false
   },
   "outputs": [
    {
     "data": {
      "text/html": [
       "<div>\n",
       "<style>\n",
       "    .dataframe thead tr:only-child th {\n",
       "        text-align: right;\n",
       "    }\n",
       "\n",
       "    .dataframe thead th {\n",
       "        text-align: left;\n",
       "    }\n",
       "\n",
       "    .dataframe tbody tr th {\n",
       "        vertical-align: top;\n",
       "    }\n",
       "</style>\n",
       "<table border=\"1\" class=\"dataframe\">\n",
       "  <thead>\n",
       "    <tr style=\"text-align: right;\">\n",
       "      <th></th>\n",
       "      <th>CMTE_ID</th>\n",
       "      <th>ENTITY_TP</th>\n",
       "      <th>NAME</th>\n",
       "      <th>CITY</th>\n",
       "      <th>STATE</th>\n",
       "      <th>ZIP_CODE</th>\n",
       "      <th>EMPLOYER</th>\n",
       "      <th>OCCUPATION</th>\n",
       "      <th>TRANSACTION_DT</th>\n",
       "      <th>TRANSACTION_AMT</th>\n",
       "    </tr>\n",
       "    <tr>\n",
       "      <th>SUB_ID</th>\n",
       "      <th></th>\n",
       "      <th></th>\n",
       "      <th></th>\n",
       "      <th></th>\n",
       "      <th></th>\n",
       "      <th></th>\n",
       "      <th></th>\n",
       "      <th></th>\n",
       "      <th></th>\n",
       "      <th></th>\n",
       "    </tr>\n",
       "  </thead>\n",
       "  <tbody>\n",
       "    <tr>\n",
       "      <th>2012520171368850783</th>\n",
       "      <td>C00629618</td>\n",
       "      <td>IND</td>\n",
       "      <td>PEREZ, JOHN A</td>\n",
       "      <td>LOS ANGELES</td>\n",
       "      <td>CA</td>\n",
       "      <td>90017</td>\n",
       "      <td>PRINCIPAL</td>\n",
       "      <td>DOUBLE NICKEL ADVISORS</td>\n",
       "      <td>1032017.0</td>\n",
       "      <td>40</td>\n",
       "    </tr>\n",
       "    <tr>\n",
       "      <th>4020820171370029337</th>\n",
       "      <td>C00177436</td>\n",
       "      <td>IND</td>\n",
       "      <td>DEEHAN, WILLIAM N</td>\n",
       "      <td>ALPHARETTA</td>\n",
       "      <td>GA</td>\n",
       "      <td>300047357</td>\n",
       "      <td>UNUM</td>\n",
       "      <td>SVP, SALES, CL</td>\n",
       "      <td>1312017.0</td>\n",
       "      <td>384</td>\n",
       "    </tr>\n",
       "    <tr>\n",
       "      <th>4020820171370029334</th>\n",
       "      <td>C00177436</td>\n",
       "      <td>IND</td>\n",
       "      <td>WATJEN, THOMAS R.</td>\n",
       "      <td>KEY LARGO</td>\n",
       "      <td>FL</td>\n",
       "      <td>330375267</td>\n",
       "      <td>UNUM</td>\n",
       "      <td>CHAIRMAN OF THE BOARD</td>\n",
       "      <td>1042017.0</td>\n",
       "      <td>5000</td>\n",
       "    </tr>\n",
       "    <tr>\n",
       "      <th>4020820171370029335</th>\n",
       "      <td>C00177436</td>\n",
       "      <td>IND</td>\n",
       "      <td>SABOURIN, JAMES</td>\n",
       "      <td>LOOKOUT MOUNTAIN</td>\n",
       "      <td>GA</td>\n",
       "      <td>307502818</td>\n",
       "      <td>UNUM</td>\n",
       "      <td>SVP, CORPORATE COMMUNICATIONS</td>\n",
       "      <td>1312017.0</td>\n",
       "      <td>230</td>\n",
       "    </tr>\n",
       "    <tr>\n",
       "      <th>4020820171370029336</th>\n",
       "      <td>C00177436</td>\n",
       "      <td>IND</td>\n",
       "      <td>MAKER, SCOTT T.</td>\n",
       "      <td>NORTH YARMOUTH</td>\n",
       "      <td>ME</td>\n",
       "      <td>040976952</td>\n",
       "      <td>UNUM</td>\n",
       "      <td>SVP, DEPUTY GENERAL COUNSEL, BUSINESS</td>\n",
       "      <td>1312017.0</td>\n",
       "      <td>384</td>\n",
       "    </tr>\n",
       "  </tbody>\n",
       "</table>\n",
       "</div>"
      ],
      "text/plain": [
       "                       CMTE_ID ENTITY_TP               NAME              CITY  \\\n",
       "SUB_ID                                                                          \n",
       "2012520171368850783  C00629618       IND      PEREZ, JOHN A       LOS ANGELES   \n",
       "4020820171370029337  C00177436       IND  DEEHAN, WILLIAM N        ALPHARETTA   \n",
       "4020820171370029334  C00177436       IND  WATJEN, THOMAS R.         KEY LARGO   \n",
       "4020820171370029335  C00177436       IND    SABOURIN, JAMES  LOOKOUT MOUNTAIN   \n",
       "4020820171370029336  C00177436       IND    MAKER, SCOTT T.    NORTH YARMOUTH   \n",
       "\n",
       "                    STATE   ZIP_CODE   EMPLOYER  \\\n",
       "SUB_ID                                            \n",
       "2012520171368850783    CA      90017  PRINCIPAL   \n",
       "4020820171370029337    GA  300047357       UNUM   \n",
       "4020820171370029334    FL  330375267       UNUM   \n",
       "4020820171370029335    GA  307502818       UNUM   \n",
       "4020820171370029336    ME  040976952       UNUM   \n",
       "\n",
       "                                                OCCUPATION  TRANSACTION_DT  \\\n",
       "SUB_ID                                                                       \n",
       "2012520171368850783                 DOUBLE NICKEL ADVISORS       1032017.0   \n",
       "4020820171370029337                         SVP, SALES, CL       1312017.0   \n",
       "4020820171370029334                  CHAIRMAN OF THE BOARD       1042017.0   \n",
       "4020820171370029335          SVP, CORPORATE COMMUNICATIONS       1312017.0   \n",
       "4020820171370029336  SVP, DEPUTY GENERAL COUNSEL, BUSINESS       1312017.0   \n",
       "\n",
       "                     TRANSACTION_AMT  \n",
       "SUB_ID                                \n",
       "2012520171368850783               40  \n",
       "4020820171370029337              384  \n",
       "4020820171370029334             5000  \n",
       "4020820171370029335              230  \n",
       "4020820171370029336              384  "
      ]
     },
     "execution_count": 11,
     "metadata": {},
     "output_type": "execute_result"
    }
   ],
   "source": [
    "indiv.head()"
   ]
  },
  {
   "cell_type": "markdown",
   "metadata": {},
   "source": [
    "#Creating the Data Frame having the required column asked in the question"
   ]
  },
  {
   "cell_type": "code",
   "execution_count": 12,
   "metadata": {
    "collapsed": true
   },
   "outputs": [],
   "source": [
    "\n",
    "indiv_frame=indiv[['NAME','CITY','STATE','EMPLOYER','OCCUPATION','TRANSACTION_AMT','ZIP_CODE','ENTITY_TP']]"
   ]
  },
  {
   "cell_type": "markdown",
   "metadata": {},
   "source": [
    "#Subsetting the Frame with a condition so that we get individual donors"
   ]
  },
  {
   "cell_type": "code",
   "execution_count": 13,
   "metadata": {
    "collapsed": true
   },
   "outputs": [],
   "source": [
    "indiv_donor_frame=indiv[indiv['ENTITY_TP']=='IND']"
   ]
  },
  {
   "cell_type": "markdown",
   "metadata": {},
   "source": [
    "#using the group by function so that we can the contribution of individual donors and we will get the output as series"
   ]
  },
  {
   "cell_type": "code",
   "execution_count": 14,
   "metadata": {
    "collapsed": true
   },
   "outputs": [],
   "source": [
    "indiv_donor_series=indiv_donor_frame.groupby(['NAME','ZIP_CODE'])['TRANSACTION_AMT'].sum()"
   ]
  },
  {
   "cell_type": "markdown",
   "metadata": {},
   "source": [
    "#Applyting the condition so that we can get the donors who donated more than 100000$"
   ]
  },
  {
   "cell_type": "code",
   "execution_count": 15,
   "metadata": {},
   "outputs": [
    {
     "data": {
      "text/plain": [
       "NAME                       ZIP_CODE \n",
       " ABDULLAH                  94534        False\n",
       " ALBERT                    943051026    False\n",
       " ALEX                      29464        False\n",
       " ALICE                     19085        False\n",
       "                           450569273    False\n",
       " ALLEN                     441202425    False\n",
       " ALLEN C                   90230        False\n",
       " ALYSSA                    799365412    False\n",
       " AMADOR                    75115        False\n",
       " AMY                       276122665    False\n",
       " ANDERSON                  27886        False\n",
       " ANN                       209105401    False\n",
       " ANN M                     454582689    False\n",
       " ANTHONY J MR              142091041    False\n",
       " ARI                       900671600    False\n",
       " ARTHUR                    940251916    False\n",
       " ASSENMACHOR, WILLIAM MR.  26945        False\n",
       " B                         857184717    False\n",
       " BARRY                     38017        False\n",
       " BETH                      481043508    False\n",
       " BIRD                      57108        False\n",
       " BOB                       38116        False\n",
       " BOYCE CHARLES             19709        False\n",
       " BRAD                      64129        False\n",
       " BRANDON D                 43215        False\n",
       " BRENDA                    37620        False\n",
       " BRENT                     75214        False\n",
       " BRETT                     67205        False\n",
       " BRIAN P                   48182        False\n",
       " BRUCE W                   432013275    False\n",
       "                                        ...  \n",
       "ZYLSTRA, ANNABELLE F. MS.  980065151    False\n",
       "ZYLSTRA, JIM               982649513    False\n",
       "ZYLSTRA, RUSSELL J. MR.    980391528    False\n",
       "ZYMA, PATRICIA MS.         195082451    False\n",
       "ZYMKOSKI, RICHANNE         43207        False\n",
       "ZYMKOSKI, RICHANNE M       432074381    False\n",
       "ZYMOWSKI, MICHAEL          222013411    False\n",
       "                           94080        False\n",
       "                           940804918    False\n",
       "ZYNSKY-APARICIO, MARY T.   029061657    False\n",
       "ZYONTZ, LARRY              08852        False\n",
       "                           088522715    False\n",
       "ZYSK, THOMAS               336094006    False\n",
       "ZYSKIND, BARRY D           10038        False\n",
       "ZYSKIND, ESTHER K          10038        False\n",
       "ZYSKIND, JOHN              01742        False\n",
       "                           017423923    False\n",
       "                           87111        False\n",
       "                           871118062    False\n",
       "ZYSMAN, JULES              14472        False\n",
       "                           144721008    False\n",
       "ZYSMAN, NADINE             90403        False\n",
       "                           904036940    False\n",
       "ZYSMAN-CROMWELL, ALICIA    14472        False\n",
       "                           144721136    False\n",
       "ZYTKO, MARK                90025        False\n",
       "ZYWICIEL, JON D            606032300    False\n",
       "ZYWICKI, STANLEY W         20001        False\n",
       "`, ROBERT                  863011779    False\n",
       "`DUBOSE, MICHAEL           36079        False\n",
       "Name: TRANSACTION_AMT, Length: 827111, dtype: bool"
      ]
     },
     "execution_count": 15,
     "metadata": {},
     "output_type": "execute_result"
    }
   ],
   "source": [
    "indiv_donor_series>100000"
   ]
  },
  {
   "cell_type": "markdown",
   "metadata": {},
   "source": [
    "#Subseting the series to get the donors who donated more than 100000$"
   ]
  },
  {
   "cell_type": "code",
   "execution_count": 16,
   "metadata": {
    "collapsed": true
   },
   "outputs": [],
   "source": [
    "indiv_donor_series_1=indiv_donor_series[indiv_donor_series>100000]"
   ]
  },
  {
   "cell_type": "markdown",
   "metadata": {},
   "source": [
    "#Converting the series to data frame"
   ]
  },
  {
   "cell_type": "code",
   "execution_count": 17,
   "metadata": {
    "collapsed": true
   },
   "outputs": [],
   "source": [
    "indiv_big_donors=indiv_donor_series_1.to_frame()"
   ]
  },
  {
   "cell_type": "markdown",
   "metadata": {},
   "source": [
    "#Merging the two frames with required indexes in both the frames"
   ]
  },
  {
   "cell_type": "code",
   "execution_count": 18,
   "metadata": {
    "collapsed": true
   },
   "outputs": [],
   "source": [
    "Big_donor_final=pd.merge(indiv_big_donors,indiv_frame, left_index=True, right_on=['NAME','ZIP_CODE'])"
   ]
  },
  {
   "cell_type": "code",
   "execution_count": 19,
   "metadata": {},
   "outputs": [
    {
     "data": {
      "text/html": [
       "<div>\n",
       "<style>\n",
       "    .dataframe thead tr:only-child th {\n",
       "        text-align: right;\n",
       "    }\n",
       "\n",
       "    .dataframe thead th {\n",
       "        text-align: left;\n",
       "    }\n",
       "\n",
       "    .dataframe tbody tr th {\n",
       "        vertical-align: top;\n",
       "    }\n",
       "</style>\n",
       "<table border=\"1\" class=\"dataframe\">\n",
       "  <thead>\n",
       "    <tr style=\"text-align: right;\">\n",
       "      <th></th>\n",
       "      <th>TRANSACTION_AMT_x</th>\n",
       "      <th>NAME</th>\n",
       "      <th>CITY</th>\n",
       "      <th>STATE</th>\n",
       "      <th>EMPLOYER</th>\n",
       "      <th>OCCUPATION</th>\n",
       "      <th>TRANSACTION_AMT_y</th>\n",
       "      <th>ZIP_CODE</th>\n",
       "      <th>ENTITY_TP</th>\n",
       "    </tr>\n",
       "    <tr>\n",
       "      <th>SUB_ID</th>\n",
       "      <th></th>\n",
       "      <th></th>\n",
       "      <th></th>\n",
       "      <th></th>\n",
       "      <th></th>\n",
       "      <th></th>\n",
       "      <th></th>\n",
       "      <th></th>\n",
       "      <th></th>\n",
       "    </tr>\n",
       "  </thead>\n",
       "  <tbody>\n",
       "    <tr>\n",
       "      <th>4042020171400066341</th>\n",
       "      <td>257700</td>\n",
       "      <td>ABERLY, NAOMI D</td>\n",
       "      <td>BOSTON</td>\n",
       "      <td>MA</td>\n",
       "      <td>NONE</td>\n",
       "      <td>VOLUNTEER</td>\n",
       "      <td>250000</td>\n",
       "      <td>02108</td>\n",
       "      <td>IND</td>\n",
       "    </tr>\n",
       "    <tr>\n",
       "      <th>2080720171442828192</th>\n",
       "      <td>257700</td>\n",
       "      <td>ABERLY, NAOMI D</td>\n",
       "      <td>BOSTON</td>\n",
       "      <td>MA</td>\n",
       "      <td>NOT EMPLOYED</td>\n",
       "      <td>NOT EMPLOYED</td>\n",
       "      <td>2700</td>\n",
       "      <td>02108</td>\n",
       "      <td>IND</td>\n",
       "    </tr>\n",
       "    <tr>\n",
       "      <th>4072620171433235210</th>\n",
       "      <td>257700</td>\n",
       "      <td>ABERLY, NAOMI D</td>\n",
       "      <td>BOSTON</td>\n",
       "      <td>MA</td>\n",
       "      <td>NONE</td>\n",
       "      <td>VOLUNTEER</td>\n",
       "      <td>5000</td>\n",
       "      <td>02108</td>\n",
       "      <td>IND</td>\n",
       "    </tr>\n",
       "    <tr>\n",
       "      <th>4080420171442616280</th>\n",
       "      <td>105400</td>\n",
       "      <td>ABRAHAM, S. DANIEL</td>\n",
       "      <td>WEST PALM BEACH</td>\n",
       "      <td>FL</td>\n",
       "      <td>ENERGY FOODS OF AMERICA LLC</td>\n",
       "      <td>CHAIRMAN</td>\n",
       "      <td>33900</td>\n",
       "      <td>334016161</td>\n",
       "      <td>IND</td>\n",
       "    </tr>\n",
       "    <tr>\n",
       "      <th>4080420171442731248</th>\n",
       "      <td>105400</td>\n",
       "      <td>ABRAHAM, S. DANIEL</td>\n",
       "      <td>WEST PALM BEACH</td>\n",
       "      <td>FL</td>\n",
       "      <td>ENERGY FOODS OF AMERICA LLC</td>\n",
       "      <td>CHAIRMAN</td>\n",
       "      <td>66100</td>\n",
       "      <td>334016161</td>\n",
       "      <td>IND</td>\n",
       "    </tr>\n",
       "  </tbody>\n",
       "</table>\n",
       "</div>"
      ],
      "text/plain": [
       "                     TRANSACTION_AMT_x                NAME             CITY  \\\n",
       "SUB_ID                                                                        \n",
       "4042020171400066341             257700     ABERLY, NAOMI D           BOSTON   \n",
       "2080720171442828192             257700     ABERLY, NAOMI D           BOSTON   \n",
       "4072620171433235210             257700     ABERLY, NAOMI D           BOSTON   \n",
       "4080420171442616280             105400  ABRAHAM, S. DANIEL  WEST PALM BEACH   \n",
       "4080420171442731248             105400  ABRAHAM, S. DANIEL  WEST PALM BEACH   \n",
       "\n",
       "                    STATE                     EMPLOYER    OCCUPATION  \\\n",
       "SUB_ID                                                                 \n",
       "4042020171400066341    MA                         NONE     VOLUNTEER   \n",
       "2080720171442828192    MA                 NOT EMPLOYED  NOT EMPLOYED   \n",
       "4072620171433235210    MA                         NONE     VOLUNTEER   \n",
       "4080420171442616280    FL  ENERGY FOODS OF AMERICA LLC      CHAIRMAN   \n",
       "4080420171442731248    FL  ENERGY FOODS OF AMERICA LLC      CHAIRMAN   \n",
       "\n",
       "                     TRANSACTION_AMT_y   ZIP_CODE ENTITY_TP  \n",
       "SUB_ID                                                       \n",
       "4042020171400066341             250000      02108       IND  \n",
       "2080720171442828192               2700      02108       IND  \n",
       "4072620171433235210               5000      02108       IND  \n",
       "4080420171442616280              33900  334016161       IND  \n",
       "4080420171442731248              66100  334016161       IND  "
      ]
     },
     "execution_count": 19,
     "metadata": {},
     "output_type": "execute_result"
    }
   ],
   "source": [
    "Big_donor_final.head()"
   ]
  },
  {
   "cell_type": "markdown",
   "metadata": {},
   "source": [
    "#grouping the big donors to get the desired output"
   ]
  },
  {
   "cell_type": "code",
   "execution_count": 20,
   "metadata": {},
   "outputs": [
    {
     "data": {
      "text/plain": [
       "NAME                        CITY              STATE  ZIP_CODE   TRANSACTION_AMT_x\n",
       "ABERLY, NAOMI D             BOSTON            MA     02108      257700                                      [NONE, NOT EMPLOYED, NONE]\n",
       "ABRAHAM, S. DANIEL          WEST PALM BEACH   FL     334016161  105400               [ENERGY FOODS OF AMERICA LLC, ENERGY FOODS OF ...\n",
       "ADAMS, DAN                  GREENVILLE        SC     29615      153500               [THE CAPITAL CORPORATION, THE CAPITAL CORPORAT...\n",
       "AINGE, MICHELLE TOOLSON     BOSTON            MA     02109      250000                                          [HOMEMAKER, HOMEMAKER]\n",
       "ANSARY, HUSHANG HON.        HOUSTON           TX     770025014  244200                                           [STEWART & STEVENSON]\n",
       "ANSARY, SHAHLA              HOUSTON           TX     770025014  244200                                                          [NONE]\n",
       "ANSCHUTZ, NANCY P.          DENVER            CO     802023941  125000                                [THE ANSCHUTZ FAMILY FOUNDATION]\n",
       "ANSCHUTZ, NANCY PARKER      DENVER            CO     80209      125000                                                           [nan]\n",
       "ANSCHUTZ, PHILIP F.         DENVER            CO     802023941  125000                                             [THE ANSCHUTZ CORP]\n",
       "                                                     80209      125000                                            [THE ANSCHUTZ CORP.]\n",
       "ANSELMO, REVERGE            GREENWICH         CT     06830      150000                                                 [SELF EMPLOYED]\n",
       "ASH, LANDON MR.             MOUNTAIN BRK      AL     352231126  119800               [XTREME CONCEPTS, XTREME CONCEPTS, XTREME CONC...\n",
       "ASNESS, CLIFF MR.           NEW YORK          NY     100172716  146000                                        [AQR CAPITAL MANAGEMENT]\n",
       "ASNESS, LAUREL              NEW YORK          NY     100172716  151400                                                [nan, nan, NONE]\n",
       "BANKE, BARBARA R            GEYSERVILLE       CA     954419315  206100               [JACKSON FAMILY WINES, JACKSON FAMILY ENTERPRI...\n",
       "BARKSDALE, JAMES            ATLANTA           GA     303272303  166767                                        [EQUITY INVESTMENT CORP]\n",
       "BARNETT, AYALA              RICHMOND HILL     NY     114183481  184600               [BNOS BAIS YAAKOV, BNOS BAIS YAAKOV, BAIS YAAK...\n",
       "BARTOS, JEFFREY A           MERION STATION    PA     19066      521884               [SELF EMPLOYED, SELF EMPLOYED, SELF EMPLOYED, ...\n",
       "BEAL, D. ANDREW MR.         PLANO             TX     750243601  150000               [BEAL BANK / BEAL AEROSPACE, BEAL BANK / BEAL ...\n",
       "BLAVATNIK, LEONARD MR.      NEW YORK          NY     100194105  250000               [ACCESS INDUSTRIES, ACCESS INDUSTRIES, ACCESS ...\n",
       "BLOOMBERG, MICHAEL R.       NEW YORK          NY     10022      490748                      [BLOOMBERG LP, BLOOMBERG LP, BLOOMBERG LP]\n",
       "BOYCE, RICHARD              LAFAYETTE         CA     945496050  125000                                                          [NONE]\n",
       "BRIN, SERGEY                PALO ALTO         CA     94301      363205                                                           [nan]\n",
       "BROWN, W. L. AMBASSADOR     GULF STREAM       FL     334837221  244200                                                          [NONE]\n",
       "BUCHWALD-WRIGHT, KAREN MS   MOUNT VERNON      OH     430500243  247700                                                   [ARIEL CORP.]\n",
       "BUCKLEY, WALTER MR. JR.     MIAMI             FL     334083343  300000                           [BUCKLEY MUETHING CAPITAL MANAGEMENT]\n",
       "BUCKLEY, WALTER W. MR. JR.  NORTH PALM BEACH  FL     334083343  250000               [BUCKLEY MUETHING CAPITAL MANAGEMENT CO, BUCKL...\n",
       "BUSCH, AUGUST A. III        SAINT PETERS      MO     633764322  259400                                                           [nan]\n",
       "                            ST PETERS         MO     633764322  259400                                                          [NONE]\n",
       "                            ST. PETERS        MO     63376      246100                                                  [RETIRED, nan]\n",
       "                                                                                                           ...                        \n",
       "SUSSMAN, S. DONALD          FORT LAUDERDALE   FL     333012285  268900               [PALOMA PARTNERS ADVISORS, INC., PALOMA PARTNE...\n",
       "                            FT. LAUDERDALE    FL     33301      380300               [PALOMA PARTNERS ADVISORS LP, PALOMA PARTNERS ...\n",
       "TANG, BEN                   UPLAND            CA     91784      141000                         [SELF EMPLOYED, LAWRENCE CONSULTING CO]\n",
       "TANG, LILY KIN J.           UPLAND            CA     91784      160000               [COLDWELL BANKER, COLDWELL BANKER, COLDWELL BA...\n",
       "TAYLOR, DALE                CHICAGO           IL     60614      247400               [ABELSON TAYLOR, ABELSON TAYLOR, ABELSON TAYLO...\n",
       "                                                     606143453  162050               [ABELSON TAYLOR, ABELSON TAYLOR, ABELSON TAYLO...\n",
       "TRAINA, TREVOR              SAN FRANCISCO     CA     941151060  101000                                    [TRAINA INTERACTIVE, IFONLY]\n",
       "TULL, THOMAS MR.            LOS ANGELES       CA     900243708  244000                                            [LEGENDARY PICTURES]\n",
       "TUNA, CARI                  SAN FRANCISCO     CA     94126      653480                                                          [SELF]\n",
       "UIHLEIN, ELIZABETH A. MS.   PLEASANT PRAIRIE  WI     531583686  237300                            [ULINE INC., ULINE INC., ULINE INC.]\n",
       "UIHLEIN, RICHARD            LAKE   FOREST     IL     60045      3697400                                                       [U LINE]\n",
       "                            LAKE FOREST       IL     60045      3697400              [ULINE, ULINE, ULINE, ULINE, ULINE, ULINE, ULI...\n",
       "                                                     600451147  1812100              [ULINE, ULINE, ULINE, ULINE, ULINE, ULINE, U-L...\n",
       "                                              IN     60045      3697400                                                        [ULINE]\n",
       "UIHLEIN, RICHARD E.         LAKE FOREST       IL     600451147  505400                               [ULINE, U-LINE CORP, U-LINE CORP]\n",
       "UIHLEIN, RICHARD E. MR.     LAKE FOREST       IL     600451147  439000               [ULINE, ULINE INC., ULINE INC., ULINE INC., UL...\n",
       "WALKER, JEFFREY C           PALM BEACH        FL     334804745  150000                                              [SELF, SELF, SELF]\n",
       "WANG, LIANBO MR.            OYSTER BAY        NY     11771      329500                                     [THOMPSON EDUCATION CENTER]\n",
       "WARREN, KELCY L.            DALLAS            TX     752194333  160000               [ENERGY TRANSFER, ENERGY TRANSFER, ENERGY TRAN...\n",
       "WEISER, EILEEN LAPPIN MRS.  ANN ARBOR         MI     481041127  125000                                          [HOMEMAKER, HOMEMAKER]\n",
       "WEISER, RONALD              ANN ARBOR         MI     48104      205400               [MCKINLEY ASSOCIATES, MCKINLEY ASSOCIATES INC,...\n",
       "WEISER, RONALD N. HON.      ANN ARBOR         MI     481041127  125000                      [MCKINLEY ASSOCIATES, MCKINLEY ASSOCIATES]\n",
       "WEXNER, LESLIE H. MR.       NEW ALBANY        OH     430549407  237300               [THE LIMITED CORPORATION, THE LIMITED CORPORAT...\n",
       "WILSEY, DIANE B.            SAN FRANCISCO     CA     941151121  120000                                        [A WILSEY PROPERTIES CO]\n",
       "WITKOFF, STEVEN MR.         NEW YORK          NY     100194001  250000               [WITKOFF GROUP, WITKOFF GROUP, WITKOFF GROUP, ...\n",
       "WOODS, LAURE                PORTOLA VALLEY    CA     94028      130050               [NONE, NONE, nan, NONE, NONE, NONE, NONE, NONE...\n",
       "WRIGHT, KAREN BUCHWALD      MOUNT VERNON      OH     43050      125000                                             [ARIEL CORPORATION]\n",
       "YASS, JEFF                  BALA CYNWYD       PA     19004      188100               [SUSQUEHANNA INTERNATIONAL GROU, SUSQUEHANNA I...\n",
       "YORKIN, PEG                 MAILBU            CA     902655203  192743                                                           [nan]\n",
       "                            MALIBU            CA     902655203  192743               [nan, nan, nan, nan, nan, nan, nan, nan, nan, ...\n",
       "Name: EMPLOYER, Length: 285, dtype: object"
      ]
     },
     "execution_count": 20,
     "metadata": {},
     "output_type": "execute_result"
    }
   ],
   "source": [
    "Big_donor_final.groupby(['NAME','CITY','STATE','ZIP_CODE','TRANSACTION_AMT_x'])['EMPLOYER'].apply(list)"
   ]
  },
  {
   "cell_type": "code",
   "execution_count": null,
   "metadata": {
    "collapsed": true
   },
   "outputs": [],
   "source": []
  },
  {
   "cell_type": "markdown",
   "metadata": {},
   "source": [
    "####Question 2 .List top 10 cities by total individual donations. Try creating a visual barchart with matplotlib\n",
    "##I will be doing the Total individual donation by individual members in the city"
   ]
  },
  {
   "cell_type": "code",
   "execution_count": 21,
   "metadata": {
    "scrolled": false
   },
   "outputs": [
    {
     "data": {
      "text/html": [
       "<div>\n",
       "<style>\n",
       "    .dataframe thead tr:only-child th {\n",
       "        text-align: right;\n",
       "    }\n",
       "\n",
       "    .dataframe thead th {\n",
       "        text-align: left;\n",
       "    }\n",
       "\n",
       "    .dataframe tbody tr th {\n",
       "        vertical-align: top;\n",
       "    }\n",
       "</style>\n",
       "<table border=\"1\" class=\"dataframe\">\n",
       "  <thead>\n",
       "    <tr style=\"text-align: right;\">\n",
       "      <th></th>\n",
       "      <th>CMTE_ID</th>\n",
       "      <th>ENTITY_TP</th>\n",
       "      <th>NAME</th>\n",
       "      <th>CITY</th>\n",
       "      <th>STATE</th>\n",
       "      <th>ZIP_CODE</th>\n",
       "      <th>EMPLOYER</th>\n",
       "      <th>OCCUPATION</th>\n",
       "      <th>TRANSACTION_DT</th>\n",
       "      <th>TRANSACTION_AMT</th>\n",
       "    </tr>\n",
       "    <tr>\n",
       "      <th>SUB_ID</th>\n",
       "      <th></th>\n",
       "      <th></th>\n",
       "      <th></th>\n",
       "      <th></th>\n",
       "      <th></th>\n",
       "      <th></th>\n",
       "      <th></th>\n",
       "      <th></th>\n",
       "      <th></th>\n",
       "      <th></th>\n",
       "    </tr>\n",
       "  </thead>\n",
       "  <tbody>\n",
       "    <tr>\n",
       "      <th>2012520171368850783</th>\n",
       "      <td>C00629618</td>\n",
       "      <td>IND</td>\n",
       "      <td>PEREZ, JOHN A</td>\n",
       "      <td>LOS ANGELES</td>\n",
       "      <td>CA</td>\n",
       "      <td>90017</td>\n",
       "      <td>PRINCIPAL</td>\n",
       "      <td>DOUBLE NICKEL ADVISORS</td>\n",
       "      <td>1032017.0</td>\n",
       "      <td>40</td>\n",
       "    </tr>\n",
       "    <tr>\n",
       "      <th>4020820171370029337</th>\n",
       "      <td>C00177436</td>\n",
       "      <td>IND</td>\n",
       "      <td>DEEHAN, WILLIAM N</td>\n",
       "      <td>ALPHARETTA</td>\n",
       "      <td>GA</td>\n",
       "      <td>300047357</td>\n",
       "      <td>UNUM</td>\n",
       "      <td>SVP, SALES, CL</td>\n",
       "      <td>1312017.0</td>\n",
       "      <td>384</td>\n",
       "    </tr>\n",
       "    <tr>\n",
       "      <th>4020820171370029334</th>\n",
       "      <td>C00177436</td>\n",
       "      <td>IND</td>\n",
       "      <td>WATJEN, THOMAS R.</td>\n",
       "      <td>KEY LARGO</td>\n",
       "      <td>FL</td>\n",
       "      <td>330375267</td>\n",
       "      <td>UNUM</td>\n",
       "      <td>CHAIRMAN OF THE BOARD</td>\n",
       "      <td>1042017.0</td>\n",
       "      <td>5000</td>\n",
       "    </tr>\n",
       "    <tr>\n",
       "      <th>4020820171370029335</th>\n",
       "      <td>C00177436</td>\n",
       "      <td>IND</td>\n",
       "      <td>SABOURIN, JAMES</td>\n",
       "      <td>LOOKOUT MOUNTAIN</td>\n",
       "      <td>GA</td>\n",
       "      <td>307502818</td>\n",
       "      <td>UNUM</td>\n",
       "      <td>SVP, CORPORATE COMMUNICATIONS</td>\n",
       "      <td>1312017.0</td>\n",
       "      <td>230</td>\n",
       "    </tr>\n",
       "    <tr>\n",
       "      <th>4020820171370029336</th>\n",
       "      <td>C00177436</td>\n",
       "      <td>IND</td>\n",
       "      <td>MAKER, SCOTT T.</td>\n",
       "      <td>NORTH YARMOUTH</td>\n",
       "      <td>ME</td>\n",
       "      <td>040976952</td>\n",
       "      <td>UNUM</td>\n",
       "      <td>SVP, DEPUTY GENERAL COUNSEL, BUSINESS</td>\n",
       "      <td>1312017.0</td>\n",
       "      <td>384</td>\n",
       "    </tr>\n",
       "  </tbody>\n",
       "</table>\n",
       "</div>"
      ],
      "text/plain": [
       "                       CMTE_ID ENTITY_TP               NAME              CITY  \\\n",
       "SUB_ID                                                                          \n",
       "2012520171368850783  C00629618       IND      PEREZ, JOHN A       LOS ANGELES   \n",
       "4020820171370029337  C00177436       IND  DEEHAN, WILLIAM N        ALPHARETTA   \n",
       "4020820171370029334  C00177436       IND  WATJEN, THOMAS R.         KEY LARGO   \n",
       "4020820171370029335  C00177436       IND    SABOURIN, JAMES  LOOKOUT MOUNTAIN   \n",
       "4020820171370029336  C00177436       IND    MAKER, SCOTT T.    NORTH YARMOUTH   \n",
       "\n",
       "                    STATE   ZIP_CODE   EMPLOYER  \\\n",
       "SUB_ID                                            \n",
       "2012520171368850783    CA      90017  PRINCIPAL   \n",
       "4020820171370029337    GA  300047357       UNUM   \n",
       "4020820171370029334    FL  330375267       UNUM   \n",
       "4020820171370029335    GA  307502818       UNUM   \n",
       "4020820171370029336    ME  040976952       UNUM   \n",
       "\n",
       "                                                OCCUPATION  TRANSACTION_DT  \\\n",
       "SUB_ID                                                                       \n",
       "2012520171368850783                 DOUBLE NICKEL ADVISORS       1032017.0   \n",
       "4020820171370029337                         SVP, SALES, CL       1312017.0   \n",
       "4020820171370029334                  CHAIRMAN OF THE BOARD       1042017.0   \n",
       "4020820171370029335          SVP, CORPORATE COMMUNICATIONS       1312017.0   \n",
       "4020820171370029336  SVP, DEPUTY GENERAL COUNSEL, BUSINESS       1312017.0   \n",
       "\n",
       "                     TRANSACTION_AMT  \n",
       "SUB_ID                                \n",
       "2012520171368850783               40  \n",
       "4020820171370029337              384  \n",
       "4020820171370029334             5000  \n",
       "4020820171370029335              230  \n",
       "4020820171370029336              384  "
      ]
     },
     "execution_count": 21,
     "metadata": {},
     "output_type": "execute_result"
    }
   ],
   "source": [
    "indiv.head()"
   ]
  },
  {
   "cell_type": "markdown",
   "metadata": {},
   "source": [
    "#Subsetting the individual members from the data frame"
   ]
  },
  {
   "cell_type": "code",
   "execution_count": 22,
   "metadata": {
    "collapsed": true
   },
   "outputs": [],
   "source": [
    "Indiv_people=indiv[indiv['ENTITY_TP']=='IND']"
   ]
  },
  {
   "cell_type": "markdown",
   "metadata": {},
   "source": [
    "##Applying the group by function on state and city column calculating the total amount donated by particular city"
   ]
  },
  {
   "cell_type": "code",
   "execution_count": 23,
   "metadata": {
    "collapsed": true
   },
   "outputs": [],
   "source": [
    "Indiv_group=Indiv_people.groupby(['STATE','CITY'])['TRANSACTION_AMT'].sum()"
   ]
  },
  {
   "cell_type": "markdown",
   "metadata": {},
   "source": [
    "#Converting the series to Data frame"
   ]
  },
  {
   "cell_type": "code",
   "execution_count": 24,
   "metadata": {
    "collapsed": true
   },
   "outputs": [],
   "source": [
    "indiv_TOP_CITIES=Indiv_group.to_frame()"
   ]
  },
  {
   "cell_type": "markdown",
   "metadata": {},
   "source": [
    "##Calculating the top 10 cities from the data Frame"
   ]
  },
  {
   "cell_type": "code",
   "execution_count": 25,
   "metadata": {
    "collapsed": true
   },
   "outputs": [],
   "source": [
    "indiv_TOP_10_CITIES=indiv_TOP_CITIES.nlargest(10,'TRANSACTION_AMT')"
   ]
  },
  {
   "cell_type": "markdown",
   "metadata": {},
   "source": [
    "#Showing the Top 10 cities donation in the pandas Data Frame"
   ]
  },
  {
   "cell_type": "code",
   "execution_count": 26,
   "metadata": {},
   "outputs": [
    {
     "data": {
      "text/html": [
       "<div>\n",
       "<style>\n",
       "    .dataframe thead tr:only-child th {\n",
       "        text-align: right;\n",
       "    }\n",
       "\n",
       "    .dataframe thead th {\n",
       "        text-align: left;\n",
       "    }\n",
       "\n",
       "    .dataframe tbody tr th {\n",
       "        vertical-align: top;\n",
       "    }\n",
       "</style>\n",
       "<table border=\"1\" class=\"dataframe\">\n",
       "  <thead>\n",
       "    <tr style=\"text-align: right;\">\n",
       "      <th></th>\n",
       "      <th></th>\n",
       "      <th>TRANSACTION_AMT</th>\n",
       "    </tr>\n",
       "    <tr>\n",
       "      <th>STATE</th>\n",
       "      <th>CITY</th>\n",
       "      <th></th>\n",
       "    </tr>\n",
       "  </thead>\n",
       "  <tbody>\n",
       "    <tr>\n",
       "      <th>NY</th>\n",
       "      <th>NEW YORK</th>\n",
       "      <td>51764105</td>\n",
       "    </tr>\n",
       "    <tr>\n",
       "      <th>DC</th>\n",
       "      <th>WASHINGTON</th>\n",
       "      <td>22846681</td>\n",
       "    </tr>\n",
       "    <tr>\n",
       "      <th>CA</th>\n",
       "      <th>SAN FRANCISCO</th>\n",
       "      <td>20304048</td>\n",
       "    </tr>\n",
       "    <tr>\n",
       "      <th>TX</th>\n",
       "      <th>HOUSTON</th>\n",
       "      <td>14499531</td>\n",
       "    </tr>\n",
       "    <tr>\n",
       "      <th>CA</th>\n",
       "      <th>LOS ANGELES</th>\n",
       "      <td>13391937</td>\n",
       "    </tr>\n",
       "    <tr>\n",
       "      <th>IL</th>\n",
       "      <th>CHICAGO</th>\n",
       "      <td>12221677</td>\n",
       "    </tr>\n",
       "    <tr>\n",
       "      <th>TX</th>\n",
       "      <th>DALLAS</th>\n",
       "      <td>11902918</td>\n",
       "    </tr>\n",
       "    <tr>\n",
       "      <th>GA</th>\n",
       "      <th>ATLANTA</th>\n",
       "      <td>10608701</td>\n",
       "    </tr>\n",
       "    <tr>\n",
       "      <th>PA</th>\n",
       "      <th>PHILADELPHIA</th>\n",
       "      <td>7585115</td>\n",
       "    </tr>\n",
       "    <tr>\n",
       "      <th>NV</th>\n",
       "      <th>LAS VEGAS</th>\n",
       "      <td>5715805</td>\n",
       "    </tr>\n",
       "  </tbody>\n",
       "</table>\n",
       "</div>"
      ],
      "text/plain": [
       "                     TRANSACTION_AMT\n",
       "STATE CITY                          \n",
       "NY    NEW YORK              51764105\n",
       "DC    WASHINGTON            22846681\n",
       "CA    SAN FRANCISCO         20304048\n",
       "TX    HOUSTON               14499531\n",
       "CA    LOS ANGELES           13391937\n",
       "IL    CHICAGO               12221677\n",
       "TX    DALLAS                11902918\n",
       "GA    ATLANTA               10608701\n",
       "PA    PHILADELPHIA           7585115\n",
       "NV    LAS VEGAS              5715805"
      ]
     },
     "execution_count": 26,
     "metadata": {},
     "output_type": "execute_result"
    }
   ],
   "source": [
    "indiv_TOP_10_CITIES"
   ]
  },
  {
   "cell_type": "code",
   "execution_count": 27,
   "metadata": {
    "collapsed": true
   },
   "outputs": [],
   "source": [
    "##Plotting the Bar Chart"
   ]
  },
  {
   "cell_type": "code",
   "execution_count": 28,
   "metadata": {},
   "outputs": [
    {
     "data": {
      "text/plain": [
       "<matplotlib.axes._subplots.AxesSubplot at 0x2b1b0c16dd8>"
      ]
     },
     "execution_count": 28,
     "metadata": {},
     "output_type": "execute_result"
    },
    {
     "data": {
      "image/png": "[encoded data removed]",
      "text/plain": [
       "<matplotlib.figure.Figure at 0x2b1b0c03d30>"
      ]
     },
     "metadata": {},
     "output_type": "display_data"
    }
   ],
   "source": [
    "\n",
    "% matplotlib inline\n",
    "indiv_TOP_10_CITIES.plot(kind='BAR')\n",
    "\n",
    "\n"
   ]
  },
  {
   "cell_type": "code",
   "execution_count": null,
   "metadata": {
    "collapsed": true
   },
   "outputs": [],
   "source": []
  },
  {
   "cell_type": "markdown",
   "metadata": {},
   "source": [
    " #(Self Question)List the top 5 organisation which donated the maximum amount.  ORG = Organization (not a committee and not a person)\n",
    " Then Plot the Bar Chart"
   ]
  },
  {
   "cell_type": "markdown",
   "metadata": {},
   "source": [
    "#Viewing the top six enteries of the Data Frame"
   ]
  },
  {
   "cell_type": "code",
   "execution_count": 29,
   "metadata": {},
   "outputs": [
    {
     "data": {
      "text/html": [
       "<div>\n",
       "<style>\n",
       "    .dataframe thead tr:only-child th {\n",
       "        text-align: right;\n",
       "    }\n",
       "\n",
       "    .dataframe thead th {\n",
       "        text-align: left;\n",
       "    }\n",
       "\n",
       "    .dataframe tbody tr th {\n",
       "        vertical-align: top;\n",
       "    }\n",
       "</style>\n",
       "<table border=\"1\" class=\"dataframe\">\n",
       "  <thead>\n",
       "    <tr style=\"text-align: right;\">\n",
       "      <th></th>\n",
       "      <th>CMTE_ID</th>\n",
       "      <th>ENTITY_TP</th>\n",
       "      <th>NAME</th>\n",
       "      <th>CITY</th>\n",
       "      <th>STATE</th>\n",
       "      <th>ZIP_CODE</th>\n",
       "      <th>EMPLOYER</th>\n",
       "      <th>OCCUPATION</th>\n",
       "      <th>TRANSACTION_DT</th>\n",
       "      <th>TRANSACTION_AMT</th>\n",
       "    </tr>\n",
       "    <tr>\n",
       "      <th>SUB_ID</th>\n",
       "      <th></th>\n",
       "      <th></th>\n",
       "      <th></th>\n",
       "      <th></th>\n",
       "      <th></th>\n",
       "      <th></th>\n",
       "      <th></th>\n",
       "      <th></th>\n",
       "      <th></th>\n",
       "      <th></th>\n",
       "    </tr>\n",
       "  </thead>\n",
       "  <tbody>\n",
       "    <tr>\n",
       "      <th>2012520171368850783</th>\n",
       "      <td>C00629618</td>\n",
       "      <td>IND</td>\n",
       "      <td>PEREZ, JOHN A</td>\n",
       "      <td>LOS ANGELES</td>\n",
       "      <td>CA</td>\n",
       "      <td>90017</td>\n",
       "      <td>PRINCIPAL</td>\n",
       "      <td>DOUBLE NICKEL ADVISORS</td>\n",
       "      <td>1032017.0</td>\n",
       "      <td>40</td>\n",
       "    </tr>\n",
       "    <tr>\n",
       "      <th>4020820171370029337</th>\n",
       "      <td>C00177436</td>\n",
       "      <td>IND</td>\n",
       "      <td>DEEHAN, WILLIAM N</td>\n",
       "      <td>ALPHARETTA</td>\n",
       "      <td>GA</td>\n",
       "      <td>300047357</td>\n",
       "      <td>UNUM</td>\n",
       "      <td>SVP, SALES, CL</td>\n",
       "      <td>1312017.0</td>\n",
       "      <td>384</td>\n",
       "    </tr>\n",
       "    <tr>\n",
       "      <th>4020820171370029334</th>\n",
       "      <td>C00177436</td>\n",
       "      <td>IND</td>\n",
       "      <td>WATJEN, THOMAS R.</td>\n",
       "      <td>KEY LARGO</td>\n",
       "      <td>FL</td>\n",
       "      <td>330375267</td>\n",
       "      <td>UNUM</td>\n",
       "      <td>CHAIRMAN OF THE BOARD</td>\n",
       "      <td>1042017.0</td>\n",
       "      <td>5000</td>\n",
       "    </tr>\n",
       "    <tr>\n",
       "      <th>4020820171370029335</th>\n",
       "      <td>C00177436</td>\n",
       "      <td>IND</td>\n",
       "      <td>SABOURIN, JAMES</td>\n",
       "      <td>LOOKOUT MOUNTAIN</td>\n",
       "      <td>GA</td>\n",
       "      <td>307502818</td>\n",
       "      <td>UNUM</td>\n",
       "      <td>SVP, CORPORATE COMMUNICATIONS</td>\n",
       "      <td>1312017.0</td>\n",
       "      <td>230</td>\n",
       "    </tr>\n",
       "    <tr>\n",
       "      <th>4020820171370029336</th>\n",
       "      <td>C00177436</td>\n",
       "      <td>IND</td>\n",
       "      <td>MAKER, SCOTT T.</td>\n",
       "      <td>NORTH YARMOUTH</td>\n",
       "      <td>ME</td>\n",
       "      <td>040976952</td>\n",
       "      <td>UNUM</td>\n",
       "      <td>SVP, DEPUTY GENERAL COUNSEL, BUSINESS</td>\n",
       "      <td>1312017.0</td>\n",
       "      <td>384</td>\n",
       "    </tr>\n",
       "  </tbody>\n",
       "</table>\n",
       "</div>"
      ],
      "text/plain": [
       "                       CMTE_ID ENTITY_TP               NAME              CITY  \\\n",
       "SUB_ID                                                                          \n",
       "2012520171368850783  C00629618       IND      PEREZ, JOHN A       LOS ANGELES   \n",
       "4020820171370029337  C00177436       IND  DEEHAN, WILLIAM N        ALPHARETTA   \n",
       "4020820171370029334  C00177436       IND  WATJEN, THOMAS R.         KEY LARGO   \n",
       "4020820171370029335  C00177436       IND    SABOURIN, JAMES  LOOKOUT MOUNTAIN   \n",
       "4020820171370029336  C00177436       IND    MAKER, SCOTT T.    NORTH YARMOUTH   \n",
       "\n",
       "                    STATE   ZIP_CODE   EMPLOYER  \\\n",
       "SUB_ID                                            \n",
       "2012520171368850783    CA      90017  PRINCIPAL   \n",
       "4020820171370029337    GA  300047357       UNUM   \n",
       "4020820171370029334    FL  330375267       UNUM   \n",
       "4020820171370029335    GA  307502818       UNUM   \n",
       "4020820171370029336    ME  040976952       UNUM   \n",
       "\n",
       "                                                OCCUPATION  TRANSACTION_DT  \\\n",
       "SUB_ID                                                                       \n",
       "2012520171368850783                 DOUBLE NICKEL ADVISORS       1032017.0   \n",
       "4020820171370029337                         SVP, SALES, CL       1312017.0   \n",
       "4020820171370029334                  CHAIRMAN OF THE BOARD       1042017.0   \n",
       "4020820171370029335          SVP, CORPORATE COMMUNICATIONS       1312017.0   \n",
       "4020820171370029336  SVP, DEPUTY GENERAL COUNSEL, BUSINESS       1312017.0   \n",
       "\n",
       "                     TRANSACTION_AMT  \n",
       "SUB_ID                                \n",
       "2012520171368850783               40  \n",
       "4020820171370029337              384  \n",
       "4020820171370029334             5000  \n",
       "4020820171370029335              230  \n",
       "4020820171370029336              384  "
      ]
     },
     "execution_count": 29,
     "metadata": {},
     "output_type": "execute_result"
    }
   ],
   "source": [
    "indiv.head()"
   ]
  },
  {
   "cell_type": "markdown",
   "metadata": {},
   "source": [
    "#Subsetting to get all the Organisation"
   ]
  },
  {
   "cell_type": "code",
   "execution_count": 30,
   "metadata": {
    "collapsed": true
   },
   "outputs": [],
   "source": [
    "Indiv_organisation=indiv[indiv['ENTITY_TP']=='ORG']"
   ]
  },
  {
   "cell_type": "code",
   "execution_count": 31,
   "metadata": {},
   "outputs": [
    {
     "data": {
      "text/html": [
       "<div>\n",
       "<style>\n",
       "    .dataframe thead tr:only-child th {\n",
       "        text-align: right;\n",
       "    }\n",
       "\n",
       "    .dataframe thead th {\n",
       "        text-align: left;\n",
       "    }\n",
       "\n",
       "    .dataframe tbody tr th {\n",
       "        vertical-align: top;\n",
       "    }\n",
       "</style>\n",
       "<table border=\"1\" class=\"dataframe\">\n",
       "  <thead>\n",
       "    <tr style=\"text-align: right;\">\n",
       "      <th></th>\n",
       "      <th>CMTE_ID</th>\n",
       "      <th>ENTITY_TP</th>\n",
       "      <th>NAME</th>\n",
       "      <th>CITY</th>\n",
       "      <th>STATE</th>\n",
       "      <th>ZIP_CODE</th>\n",
       "      <th>EMPLOYER</th>\n",
       "      <th>OCCUPATION</th>\n",
       "      <th>TRANSACTION_DT</th>\n",
       "      <th>TRANSACTION_AMT</th>\n",
       "    </tr>\n",
       "    <tr>\n",
       "      <th>SUB_ID</th>\n",
       "      <th></th>\n",
       "      <th></th>\n",
       "      <th></th>\n",
       "      <th></th>\n",
       "      <th></th>\n",
       "      <th></th>\n",
       "      <th></th>\n",
       "      <th></th>\n",
       "      <th></th>\n",
       "      <th></th>\n",
       "    </tr>\n",
       "  </thead>\n",
       "  <tbody>\n",
       "    <tr>\n",
       "      <th>4021020171370429314</th>\n",
       "      <td>C00528455</td>\n",
       "      <td>ORG</td>\n",
       "      <td>INTERNATIONAL ALLIANCE OF THEATRICAL STAGE EMP...</td>\n",
       "      <td>NEW YORK</td>\n",
       "      <td>NY</td>\n",
       "      <td>10001</td>\n",
       "      <td>NaN</td>\n",
       "      <td>NaN</td>\n",
       "      <td>1192017.0</td>\n",
       "      <td>15000</td>\n",
       "    </tr>\n",
       "    <tr>\n",
       "      <th>4021320171370652762</th>\n",
       "      <td>C00427930</td>\n",
       "      <td>ORG</td>\n",
       "      <td>THE CHICKASAW NATION</td>\n",
       "      <td>ADA</td>\n",
       "      <td>OK</td>\n",
       "      <td>74820</td>\n",
       "      <td>NaN</td>\n",
       "      <td>NaN</td>\n",
       "      <td>1312017.0</td>\n",
       "      <td>2500</td>\n",
       "    </tr>\n",
       "    <tr>\n",
       "      <th>4021420171370795646</th>\n",
       "      <td>C00193433</td>\n",
       "      <td>ORG</td>\n",
       "      <td>ENCOMPASS ELEMENTS</td>\n",
       "      <td>COLMAR</td>\n",
       "      <td>PA</td>\n",
       "      <td>18915</td>\n",
       "      <td>NaN</td>\n",
       "      <td>NaN</td>\n",
       "      <td>1302017.0</td>\n",
       "      <td>298</td>\n",
       "    </tr>\n",
       "    <tr>\n",
       "      <th>4021320171370649097</th>\n",
       "      <td>C00556274</td>\n",
       "      <td>ORG</td>\n",
       "      <td>UNITED STEELWORKERS</td>\n",
       "      <td>PITTSBURGH</td>\n",
       "      <td>PA</td>\n",
       "      <td>152221214</td>\n",
       "      <td>NaN</td>\n",
       "      <td>NaN</td>\n",
       "      <td>1182017.0</td>\n",
       "      <td>175023</td>\n",
       "    </tr>\n",
       "    <tr>\n",
       "      <th>4021320171370658273</th>\n",
       "      <td>C00166348</td>\n",
       "      <td>ORG</td>\n",
       "      <td>RODEBERG PARTNERSHIP</td>\n",
       "      <td>MONTEVIDEO</td>\n",
       "      <td>MN</td>\n",
       "      <td>56265</td>\n",
       "      <td>NaN</td>\n",
       "      <td>NaN</td>\n",
       "      <td>1012017.0</td>\n",
       "      <td>1521</td>\n",
       "    </tr>\n",
       "  </tbody>\n",
       "</table>\n",
       "</div>"
      ],
      "text/plain": [
       "                       CMTE_ID ENTITY_TP  \\\n",
       "SUB_ID                                     \n",
       "4021020171370429314  C00528455       ORG   \n",
       "4021320171370652762  C00427930       ORG   \n",
       "4021420171370795646  C00193433       ORG   \n",
       "4021320171370649097  C00556274       ORG   \n",
       "4021320171370658273  C00166348       ORG   \n",
       "\n",
       "                                                                  NAME  \\\n",
       "SUB_ID                                                                   \n",
       "4021020171370429314  INTERNATIONAL ALLIANCE OF THEATRICAL STAGE EMP...   \n",
       "4021320171370652762                               THE CHICKASAW NATION   \n",
       "4021420171370795646                                 ENCOMPASS ELEMENTS   \n",
       "4021320171370649097                                UNITED STEELWORKERS   \n",
       "4021320171370658273                               RODEBERG PARTNERSHIP   \n",
       "\n",
       "                           CITY STATE   ZIP_CODE EMPLOYER OCCUPATION  \\\n",
       "SUB_ID                                                                 \n",
       "4021020171370429314    NEW YORK    NY      10001      NaN        NaN   \n",
       "4021320171370652762         ADA    OK      74820      NaN        NaN   \n",
       "4021420171370795646      COLMAR    PA      18915      NaN        NaN   \n",
       "4021320171370649097  PITTSBURGH    PA  152221214      NaN        NaN   \n",
       "4021320171370658273  MONTEVIDEO    MN      56265      NaN        NaN   \n",
       "\n",
       "                     TRANSACTION_DT  TRANSACTION_AMT  \n",
       "SUB_ID                                                \n",
       "4021020171370429314       1192017.0            15000  \n",
       "4021320171370652762       1312017.0             2500  \n",
       "4021420171370795646       1302017.0              298  \n",
       "4021320171370649097       1182017.0           175023  \n",
       "4021320171370658273       1012017.0             1521  "
      ]
     },
     "execution_count": 31,
     "metadata": {},
     "output_type": "execute_result"
    }
   ],
   "source": [
    "Indiv_organisation.head()"
   ]
  },
  {
   "cell_type": "code",
   "execution_count": 32,
   "metadata": {
    "collapsed": true
   },
   "outputs": [],
   "source": [
    "#Using the group by function and calculating the total sum donated by the organisation"
   ]
  },
  {
   "cell_type": "code",
   "execution_count": 33,
   "metadata": {
    "collapsed": true
   },
   "outputs": [],
   "source": [
    "Indiv_organisation_series=Indiv_organisation.groupby(['STATE','CITY','NAME','ENTITY_TP'])['TRANSACTION_AMT'].sum()"
   ]
  },
  {
   "cell_type": "code",
   "execution_count": 34,
   "metadata": {},
   "outputs": [
    {
     "data": {
      "text/plain": [
       "STATE  CITY      NAME                                          ENTITY_TP\n",
       "AL     ANNISTON  WILLIAM JULIAN CPA                            ORG             300\n",
       "       ATMORE    POARCH BAND OF CREEK INDIANS                  ORG          161200\n",
       "                 POARCH BAND OF INDIANS                        ORG            5000\n",
       "                 POARCH CREEK INDIANS                          ORG            7700\n",
       "                 POARCH CREEK INDIANS TRIBAL GOVERNMENT FUNDS  ORG            5000\n",
       "Name: TRANSACTION_AMT, dtype: int32"
      ]
     },
     "execution_count": 34,
     "metadata": {},
     "output_type": "execute_result"
    }
   ],
   "source": [
    "Indiv_organisation_series.head()"
   ]
  },
  {
   "cell_type": "markdown",
   "metadata": {
    "collapsed": true
   },
   "source": [
    "#Now converting the series to Frame"
   ]
  },
  {
   "cell_type": "code",
   "execution_count": 35,
   "metadata": {
    "collapsed": true
   },
   "outputs": [],
   "source": [
    "Indiv_organisation_Frame=Indiv_organisation_series.to_frame()"
   ]
  },
  {
   "cell_type": "code",
   "execution_count": 36,
   "metadata": {},
   "outputs": [
    {
     "data": {
      "text/html": [
       "<div>\n",
       "<style>\n",
       "    .dataframe thead tr:only-child th {\n",
       "        text-align: right;\n",
       "    }\n",
       "\n",
       "    .dataframe thead th {\n",
       "        text-align: left;\n",
       "    }\n",
       "\n",
       "    .dataframe tbody tr th {\n",
       "        vertical-align: top;\n",
       "    }\n",
       "</style>\n",
       "<table border=\"1\" class=\"dataframe\">\n",
       "  <thead>\n",
       "    <tr style=\"text-align: right;\">\n",
       "      <th></th>\n",
       "      <th></th>\n",
       "      <th></th>\n",
       "      <th></th>\n",
       "      <th>TRANSACTION_AMT</th>\n",
       "    </tr>\n",
       "    <tr>\n",
       "      <th>STATE</th>\n",
       "      <th>CITY</th>\n",
       "      <th>NAME</th>\n",
       "      <th>ENTITY_TP</th>\n",
       "      <th></th>\n",
       "    </tr>\n",
       "  </thead>\n",
       "  <tbody>\n",
       "    <tr>\n",
       "      <th rowspan=\"5\" valign=\"top\">AL</th>\n",
       "      <th>ANNISTON</th>\n",
       "      <th>WILLIAM JULIAN CPA</th>\n",
       "      <th>ORG</th>\n",
       "      <td>300</td>\n",
       "    </tr>\n",
       "    <tr>\n",
       "      <th rowspan=\"4\" valign=\"top\">ATMORE</th>\n",
       "      <th>POARCH BAND OF CREEK INDIANS</th>\n",
       "      <th>ORG</th>\n",
       "      <td>161200</td>\n",
       "    </tr>\n",
       "    <tr>\n",
       "      <th>POARCH BAND OF INDIANS</th>\n",
       "      <th>ORG</th>\n",
       "      <td>5000</td>\n",
       "    </tr>\n",
       "    <tr>\n",
       "      <th>POARCH CREEK INDIANS</th>\n",
       "      <th>ORG</th>\n",
       "      <td>7700</td>\n",
       "    </tr>\n",
       "    <tr>\n",
       "      <th>POARCH CREEK INDIANS TRIBAL GOVERNMENT FUNDS</th>\n",
       "      <th>ORG</th>\n",
       "      <td>5000</td>\n",
       "    </tr>\n",
       "  </tbody>\n",
       "</table>\n",
       "</div>"
      ],
      "text/plain": [
       "                                                                       TRANSACTION_AMT\n",
       "STATE CITY     NAME                                         ENTITY_TP                 \n",
       "AL    ANNISTON WILLIAM JULIAN CPA                           ORG                    300\n",
       "      ATMORE   POARCH BAND OF CREEK INDIANS                 ORG                 161200\n",
       "               POARCH BAND OF INDIANS                       ORG                   5000\n",
       "               POARCH CREEK INDIANS                         ORG                   7700\n",
       "               POARCH CREEK INDIANS TRIBAL GOVERNMENT FUNDS ORG                   5000"
      ]
     },
     "execution_count": 36,
     "metadata": {},
     "output_type": "execute_result"
    }
   ],
   "source": [
    "Indiv_organisation_Frame.head()"
   ]
  },
  {
   "cell_type": "markdown",
   "metadata": {},
   "source": [
    "#Find the five largest organisation who donated the maximum amount"
   ]
  },
  {
   "cell_type": "code",
   "execution_count": 37,
   "metadata": {
    "collapsed": true
   },
   "outputs": [],
   "source": [
    "Indiv_organisation_Largest=Indiv_organisation_Frame.nlargest(5,'TRANSACTION_AMT')"
   ]
  },
  {
   "cell_type": "code",
   "execution_count": 38,
   "metadata": {},
   "outputs": [
    {
     "data": {
      "text/html": [
       "<div>\n",
       "<style>\n",
       "    .dataframe thead tr:only-child th {\n",
       "        text-align: right;\n",
       "    }\n",
       "\n",
       "    .dataframe thead th {\n",
       "        text-align: left;\n",
       "    }\n",
       "\n",
       "    .dataframe tbody tr th {\n",
       "        vertical-align: top;\n",
       "    }\n",
       "</style>\n",
       "<table border=\"1\" class=\"dataframe\">\n",
       "  <thead>\n",
       "    <tr style=\"text-align: right;\">\n",
       "      <th></th>\n",
       "      <th></th>\n",
       "      <th></th>\n",
       "      <th></th>\n",
       "      <th>TRANSACTION_AMT</th>\n",
       "    </tr>\n",
       "    <tr>\n",
       "      <th>STATE</th>\n",
       "      <th>CITY</th>\n",
       "      <th>NAME</th>\n",
       "      <th>ENTITY_TP</th>\n",
       "      <th></th>\n",
       "    </tr>\n",
       "  </thead>\n",
       "  <tbody>\n",
       "    <tr>\n",
       "      <th rowspan=\"4\" valign=\"top\">DC</th>\n",
       "      <th rowspan=\"4\" valign=\"top\">WASHINGTON</th>\n",
       "      <th>AMERICAN ACTION NETWORK</th>\n",
       "      <th>ORG</th>\n",
       "      <td>6142525</td>\n",
       "    </tr>\n",
       "    <tr>\n",
       "      <th>UNITED BROTHERHOOD OF CARPENTERS AND JOINERS</th>\n",
       "      <th>ORG</th>\n",
       "      <td>4389797</td>\n",
       "    </tr>\n",
       "    <tr>\n",
       "      <th>DEMOCRATIC GOVERNORS ASSOCIATION (DGA)</th>\n",
       "      <th>ORG</th>\n",
       "      <td>3040000</td>\n",
       "    </tr>\n",
       "    <tr>\n",
       "      <th>AFSCME SPECIAL ACCOUNT</th>\n",
       "      <th>ORG</th>\n",
       "      <td>2361087</td>\n",
       "    </tr>\n",
       "    <tr>\n",
       "      <th>MD</th>\n",
       "      <th>ANNAPOLIS</th>\n",
       "      <th>TARGETED PLATFORM MEDIA LLC</th>\n",
       "      <th>ORG</th>\n",
       "      <td>1261553</td>\n",
       "    </tr>\n",
       "  </tbody>\n",
       "</table>\n",
       "</div>"
      ],
      "text/plain": [
       "                                                                         TRANSACTION_AMT\n",
       "STATE CITY       NAME                                         ENTITY_TP                 \n",
       "DC    WASHINGTON AMERICAN ACTION NETWORK                      ORG                6142525\n",
       "                 UNITED BROTHERHOOD OF CARPENTERS AND JOINERS ORG                4389797\n",
       "                 DEMOCRATIC GOVERNORS ASSOCIATION (DGA)       ORG                3040000\n",
       "                 AFSCME SPECIAL ACCOUNT                       ORG                2361087\n",
       "MD    ANNAPOLIS  TARGETED PLATFORM MEDIA LLC                  ORG                1261553"
      ]
     },
     "execution_count": 38,
     "metadata": {},
     "output_type": "execute_result"
    }
   ],
   "source": [
    "Indiv_organisation_Largest"
   ]
  },
  {
   "cell_type": "markdown",
   "metadata": {},
   "source": [
    "#Now rested the index of the above Frames as we want to plot the Bar chart with selected column but we have multiple index so we need to reset ."
   ]
  },
  {
   "cell_type": "code",
   "execution_count": 39,
   "metadata": {
    "collapsed": true
   },
   "outputs": [],
   "source": [
    "Indiv_organisation_Largest_Reset_Index=Indiv_organisation_Largest.reset_index()"
   ]
  },
  {
   "cell_type": "markdown",
   "metadata": {},
   "source": [
    "#Selected required columns from the above frame"
   ]
  },
  {
   "cell_type": "code",
   "execution_count": 40,
   "metadata": {
    "collapsed": true
   },
   "outputs": [],
   "source": [
    "Indiv_organisation_Largest_New_Index=Indiv_organisation_Largest_Reset_Index[['NAME','TRANSACTION_AMT']]"
   ]
  },
  {
   "cell_type": "markdown",
   "metadata": {},
   "source": [
    "#Now the set index of the frame 'NAME'"
   ]
  },
  {
   "cell_type": "code",
   "execution_count": 41,
   "metadata": {
    "collapsed": true
   },
   "outputs": [],
   "source": [
    "Indiv_organisation_Largest_New_Index_Final=Indiv_organisation_Largest_New_Index.set_index('NAME')"
   ]
  },
  {
   "cell_type": "markdown",
   "metadata": {},
   "source": [
    "# Plot the Bar Chart and See the organisation which donated the maximum amou"
   ]
  },
  {
   "cell_type": "code",
   "execution_count": 42,
   "metadata": {},
   "outputs": [
    {
     "data": {
      "text/plain": [
       "<matplotlib.axes._subplots.AxesSubplot at 0x2b1b0ccffd0>"
      ]
     },
     "execution_count": 42,
     "metadata": {},
     "output_type": "execute_result"
    },
    {
     "data": {
      "image/png": "[encoded data removed]",
      "text/plain": [
       "<matplotlib.figure.Figure at 0x2b1b105dc88>"
      ]
     },
     "metadata": {},
     "output_type": "display_data"
    }
   ],
   "source": [
    "% matplotlib inline\n",
    "Indiv_organisation_Largest_New_Index_Final.plot(kind='BAR')"
   ]
  },
  {
   "cell_type": "code",
   "execution_count": null,
   "metadata": {
    "collapsed": true
   },
   "outputs": [],
   "source": []
  },
  {
   "cell_type": "markdown",
   "metadata": {},
   "source": [
    "Question.4\n",
    "Multi-file queries (needing merge or join). Some of these are good ways to see corruption in action:\n",
    "Find people who donated over 5000 directly to a Senate or House candidate who's not even in their own state, and show the details. [Tip: You'll need to compare the candidate's state to the individual donor's state after you get them joined.]"
   ]
  },
  {
   "cell_type": "code",
   "execution_count": 43,
   "metadata": {
    "collapsed": true
   },
   "outputs": [],
   "source": [
    "cn_header_file = my_dir + 'cn_header_file.csv'\n",
    "cn_file = my_dir + 'cn.txt'  # Federal candidates\n",
    "\n",
    "cm_header_file = my_dir + 'cm_header_file.csv'\n",
    "cm_file = my_dir + 'cm.txt'  # Committees (funds and PACs)"
   ]
  },
  {
   "cell_type": "code",
   "execution_count": 44,
   "metadata": {
    "collapsed": true
   },
   "outputs": [],
   "source": [
    "cn_cols = get_columns(cn_header_file)\n",
    "cm_cols = get_columns(cm_header_file)"
   ]
  },
  {
   "cell_type": "code",
   "execution_count": 45,
   "metadata": {
    "collapsed": true
   },
   "outputs": [],
   "source": [
    "cn = pd.read_csv(cn_file, sep='|', index_col='CAND_ID', \n",
    "                    names=cn_cols,\n",
    "                    usecols=['CAND_ID','CAND_NAME','CAND_ST','CAND_CITY']\n",
    "                    \n",
    "                    )"
   ]
  },
  {
   "cell_type": "code",
   "execution_count": 46,
   "metadata": {},
   "outputs": [
    {
     "data": {
      "text/html": [
       "<div>\n",
       "<style>\n",
       "    .dataframe thead tr:only-child th {\n",
       "        text-align: right;\n",
       "    }\n",
       "\n",
       "    .dataframe thead th {\n",
       "        text-align: left;\n",
       "    }\n",
       "\n",
       "    .dataframe tbody tr th {\n",
       "        vertical-align: top;\n",
       "    }\n",
       "</style>\n",
       "<table border=\"1\" class=\"dataframe\">\n",
       "  <thead>\n",
       "    <tr style=\"text-align: right;\">\n",
       "      <th></th>\n",
       "      <th>CAND_NAME</th>\n",
       "      <th>CAND_CITY</th>\n",
       "      <th>CAND_ST</th>\n",
       "    </tr>\n",
       "    <tr>\n",
       "      <th>CAND_ID</th>\n",
       "      <th></th>\n",
       "      <th></th>\n",
       "      <th></th>\n",
       "    </tr>\n",
       "  </thead>\n",
       "  <tbody>\n",
       "    <tr>\n",
       "      <th>H0AL02087</th>\n",
       "      <td>ROBY, MARTHA</td>\n",
       "      <td>MONTGOMERY</td>\n",
       "      <td>AL</td>\n",
       "    </tr>\n",
       "    <tr>\n",
       "      <th>H0AL05049</th>\n",
       "      <td>CRAMER, ROBERT E \"BUD\" JR</td>\n",
       "      <td>HUNTSVILLE</td>\n",
       "      <td>AL</td>\n",
       "    </tr>\n",
       "    <tr>\n",
       "      <th>H0AL05163</th>\n",
       "      <td>BROOKS, MO</td>\n",
       "      <td>HUNTSVILLE</td>\n",
       "      <td>AL</td>\n",
       "    </tr>\n",
       "    <tr>\n",
       "      <th>H0AL06088</th>\n",
       "      <td>COOKE, STANLEY KYLE</td>\n",
       "      <td>KIMBERLY</td>\n",
       "      <td>AL</td>\n",
       "    </tr>\n",
       "    <tr>\n",
       "      <th>H0AL07086</th>\n",
       "      <td>SEWELL, TERRI A.</td>\n",
       "      <td>BIRMINGHAM</td>\n",
       "      <td>AL</td>\n",
       "    </tr>\n",
       "  </tbody>\n",
       "</table>\n",
       "</div>"
      ],
      "text/plain": [
       "                           CAND_NAME   CAND_CITY CAND_ST\n",
       "CAND_ID                                                 \n",
       "H0AL02087               ROBY, MARTHA  MONTGOMERY      AL\n",
       "H0AL05049  CRAMER, ROBERT E \"BUD\" JR  HUNTSVILLE      AL\n",
       "H0AL05163                 BROOKS, MO  HUNTSVILLE      AL\n",
       "H0AL06088        COOKE, STANLEY KYLE    KIMBERLY      AL\n",
       "H0AL07086           SEWELL, TERRI A.  BIRMINGHAM      AL"
      ]
     },
     "execution_count": 46,
     "metadata": {},
     "output_type": "execute_result"
    }
   ],
   "source": [
    "cn.head()"
   ]
  },
  {
   "cell_type": "code",
   "execution_count": 47,
   "metadata": {
    "collapsed": true
   },
   "outputs": [],
   "source": [
    "cm = pd.read_csv(cm_file, sep='|', index_col='CMTE_ID', \n",
    "                    names=cm_cols,\n",
    "                    usecols=['CAND_ID','CMTE_ID','CMTE_TP'],\n",
    "                 dtype={'CMTE_ID':str,'CMTE_TP':str}\n",
    "                )"
   ]
  },
  {
   "cell_type": "code",
   "execution_count": 48,
   "metadata": {},
   "outputs": [
    {
     "data": {
      "text/html": [
       "<div>\n",
       "<style>\n",
       "    .dataframe thead tr:only-child th {\n",
       "        text-align: right;\n",
       "    }\n",
       "\n",
       "    .dataframe thead th {\n",
       "        text-align: left;\n",
       "    }\n",
       "\n",
       "    .dataframe tbody tr th {\n",
       "        vertical-align: top;\n",
       "    }\n",
       "</style>\n",
       "<table border=\"1\" class=\"dataframe\">\n",
       "  <thead>\n",
       "    <tr style=\"text-align: right;\">\n",
       "      <th></th>\n",
       "      <th>CMTE_TP</th>\n",
       "      <th>CAND_ID</th>\n",
       "    </tr>\n",
       "    <tr>\n",
       "      <th>CMTE_ID</th>\n",
       "      <th></th>\n",
       "      <th></th>\n",
       "    </tr>\n",
       "  </thead>\n",
       "  <tbody>\n",
       "    <tr>\n",
       "      <th>C00000059</th>\n",
       "      <td>Q</td>\n",
       "      <td>NaN</td>\n",
       "    </tr>\n",
       "    <tr>\n",
       "      <th>C00000422</th>\n",
       "      <td>Q</td>\n",
       "      <td>NaN</td>\n",
       "    </tr>\n",
       "    <tr>\n",
       "      <th>C00000489</th>\n",
       "      <td>N</td>\n",
       "      <td>NaN</td>\n",
       "    </tr>\n",
       "    <tr>\n",
       "      <th>C00000547</th>\n",
       "      <td>Q</td>\n",
       "      <td>NaN</td>\n",
       "    </tr>\n",
       "    <tr>\n",
       "      <th>C00000638</th>\n",
       "      <td>Q</td>\n",
       "      <td>NaN</td>\n",
       "    </tr>\n",
       "  </tbody>\n",
       "</table>\n",
       "</div>"
      ],
      "text/plain": [
       "          CMTE_TP CAND_ID\n",
       "CMTE_ID                  \n",
       "C00000059       Q     NaN\n",
       "C00000422       Q     NaN\n",
       "C00000489       N     NaN\n",
       "C00000547       Q     NaN\n",
       "C00000638       Q     NaN"
      ]
     },
     "execution_count": 48,
     "metadata": {},
     "output_type": "execute_result"
    }
   ],
   "source": [
    "cm.head()"
   ]
  },
  {
   "cell_type": "markdown",
   "metadata": {},
   "source": [
    "#Merge individual and committe file"
   ]
  },
  {
   "cell_type": "code",
   "execution_count": 49,
   "metadata": {
    "collapsed": true
   },
   "outputs": [],
   "source": [
    "indiv_cm=pd.merge(indiv,cm, left_on='CMTE_ID', right_index=True)"
   ]
  },
  {
   "cell_type": "code",
   "execution_count": 50,
   "metadata": {},
   "outputs": [
    {
     "data": {
      "text/html": [
       "<div>\n",
       "<style>\n",
       "    .dataframe thead tr:only-child th {\n",
       "        text-align: right;\n",
       "    }\n",
       "\n",
       "    .dataframe thead th {\n",
       "        text-align: left;\n",
       "    }\n",
       "\n",
       "    .dataframe tbody tr th {\n",
       "        vertical-align: top;\n",
       "    }\n",
       "</style>\n",
       "<table border=\"1\" class=\"dataframe\">\n",
       "  <thead>\n",
       "    <tr style=\"text-align: right;\">\n",
       "      <th></th>\n",
       "      <th>CMTE_ID</th>\n",
       "      <th>ENTITY_TP</th>\n",
       "      <th>NAME</th>\n",
       "      <th>CITY</th>\n",
       "      <th>STATE</th>\n",
       "      <th>ZIP_CODE</th>\n",
       "      <th>EMPLOYER</th>\n",
       "      <th>OCCUPATION</th>\n",
       "      <th>TRANSACTION_DT</th>\n",
       "      <th>TRANSACTION_AMT</th>\n",
       "      <th>CMTE_TP</th>\n",
       "      <th>CAND_ID</th>\n",
       "    </tr>\n",
       "    <tr>\n",
       "      <th>SUB_ID</th>\n",
       "      <th></th>\n",
       "      <th></th>\n",
       "      <th></th>\n",
       "      <th></th>\n",
       "      <th></th>\n",
       "      <th></th>\n",
       "      <th></th>\n",
       "      <th></th>\n",
       "      <th></th>\n",
       "      <th></th>\n",
       "      <th></th>\n",
       "      <th></th>\n",
       "    </tr>\n",
       "  </thead>\n",
       "  <tbody>\n",
       "    <tr>\n",
       "      <th>2012520171368850783</th>\n",
       "      <td>C00629618</td>\n",
       "      <td>IND</td>\n",
       "      <td>PEREZ, JOHN A</td>\n",
       "      <td>LOS ANGELES</td>\n",
       "      <td>CA</td>\n",
       "      <td>90017</td>\n",
       "      <td>PRINCIPAL</td>\n",
       "      <td>DOUBLE NICKEL ADVISORS</td>\n",
       "      <td>1032017.0</td>\n",
       "      <td>40</td>\n",
       "      <td>H</td>\n",
       "      <td>H6CA34245</td>\n",
       "    </tr>\n",
       "    <tr>\n",
       "      <th>4020820171370029337</th>\n",
       "      <td>C00177436</td>\n",
       "      <td>IND</td>\n",
       "      <td>DEEHAN, WILLIAM N</td>\n",
       "      <td>ALPHARETTA</td>\n",
       "      <td>GA</td>\n",
       "      <td>300047357</td>\n",
       "      <td>UNUM</td>\n",
       "      <td>SVP, SALES, CL</td>\n",
       "      <td>1312017.0</td>\n",
       "      <td>384</td>\n",
       "      <td>Q</td>\n",
       "      <td>NaN</td>\n",
       "    </tr>\n",
       "    <tr>\n",
       "      <th>4020820171370029334</th>\n",
       "      <td>C00177436</td>\n",
       "      <td>IND</td>\n",
       "      <td>WATJEN, THOMAS R.</td>\n",
       "      <td>KEY LARGO</td>\n",
       "      <td>FL</td>\n",
       "      <td>330375267</td>\n",
       "      <td>UNUM</td>\n",
       "      <td>CHAIRMAN OF THE BOARD</td>\n",
       "      <td>1042017.0</td>\n",
       "      <td>5000</td>\n",
       "      <td>Q</td>\n",
       "      <td>NaN</td>\n",
       "    </tr>\n",
       "    <tr>\n",
       "      <th>4020820171370029335</th>\n",
       "      <td>C00177436</td>\n",
       "      <td>IND</td>\n",
       "      <td>SABOURIN, JAMES</td>\n",
       "      <td>LOOKOUT MOUNTAIN</td>\n",
       "      <td>GA</td>\n",
       "      <td>307502818</td>\n",
       "      <td>UNUM</td>\n",
       "      <td>SVP, CORPORATE COMMUNICATIONS</td>\n",
       "      <td>1312017.0</td>\n",
       "      <td>230</td>\n",
       "      <td>Q</td>\n",
       "      <td>NaN</td>\n",
       "    </tr>\n",
       "    <tr>\n",
       "      <th>4020820171370029336</th>\n",
       "      <td>C00177436</td>\n",
       "      <td>IND</td>\n",
       "      <td>MAKER, SCOTT T.</td>\n",
       "      <td>NORTH YARMOUTH</td>\n",
       "      <td>ME</td>\n",
       "      <td>040976952</td>\n",
       "      <td>UNUM</td>\n",
       "      <td>SVP, DEPUTY GENERAL COUNSEL, BUSINESS</td>\n",
       "      <td>1312017.0</td>\n",
       "      <td>384</td>\n",
       "      <td>Q</td>\n",
       "      <td>NaN</td>\n",
       "    </tr>\n",
       "  </tbody>\n",
       "</table>\n",
       "</div>"
      ],
      "text/plain": [
       "                       CMTE_ID ENTITY_TP               NAME              CITY  \\\n",
       "SUB_ID                                                                          \n",
       "2012520171368850783  C00629618       IND      PEREZ, JOHN A       LOS ANGELES   \n",
       "4020820171370029337  C00177436       IND  DEEHAN, WILLIAM N        ALPHARETTA   \n",
       "4020820171370029334  C00177436       IND  WATJEN, THOMAS R.         KEY LARGO   \n",
       "4020820171370029335  C00177436       IND    SABOURIN, JAMES  LOOKOUT MOUNTAIN   \n",
       "4020820171370029336  C00177436       IND    MAKER, SCOTT T.    NORTH YARMOUTH   \n",
       "\n",
       "                    STATE   ZIP_CODE   EMPLOYER  \\\n",
       "SUB_ID                                            \n",
       "2012520171368850783    CA      90017  PRINCIPAL   \n",
       "4020820171370029337    GA  300047357       UNUM   \n",
       "4020820171370029334    FL  330375267       UNUM   \n",
       "4020820171370029335    GA  307502818       UNUM   \n",
       "4020820171370029336    ME  040976952       UNUM   \n",
       "\n",
       "                                                OCCUPATION  TRANSACTION_DT  \\\n",
       "SUB_ID                                                                       \n",
       "2012520171368850783                 DOUBLE NICKEL ADVISORS       1032017.0   \n",
       "4020820171370029337                         SVP, SALES, CL       1312017.0   \n",
       "4020820171370029334                  CHAIRMAN OF THE BOARD       1042017.0   \n",
       "4020820171370029335          SVP, CORPORATE COMMUNICATIONS       1312017.0   \n",
       "4020820171370029336  SVP, DEPUTY GENERAL COUNSEL, BUSINESS       1312017.0   \n",
       "\n",
       "                     TRANSACTION_AMT CMTE_TP    CAND_ID  \n",
       "SUB_ID                                                   \n",
       "2012520171368850783               40       H  H6CA34245  \n",
       "4020820171370029337              384       Q        NaN  \n",
       "4020820171370029334             5000       Q        NaN  \n",
       "4020820171370029335              230       Q        NaN  \n",
       "4020820171370029336              384       Q        NaN  "
      ]
     },
     "execution_count": 50,
     "metadata": {},
     "output_type": "execute_result"
    }
   ],
   "source": [
    "indiv_cm.head()"
   ]
  },
  {
   "cell_type": "code",
   "execution_count": 51,
   "metadata": {
    "collapsed": true
   },
   "outputs": [],
   "source": [
    "#Merge the above file with the candidate file"
   ]
  },
  {
   "cell_type": "code",
   "execution_count": 52,
   "metadata": {
    "collapsed": true
   },
   "outputs": [],
   "source": [
    "indiv_cm_cn=pd.merge(indiv_cm,cn, left_on='CAND_ID', right_index=True)"
   ]
  },
  {
   "cell_type": "markdown",
   "metadata": {},
   "source": [
    "#Put the condition to select the individual persons"
   ]
  },
  {
   "cell_type": "code",
   "execution_count": 53,
   "metadata": {
    "collapsed": true
   },
   "outputs": [],
   "source": [
    "indiv_cm_cn_person= indiv_cm_cn[indiv_cm_cn['ENTITY_TP']=='IND']"
   ]
  },
  {
   "cell_type": "markdown",
   "metadata": {},
   "source": [
    "#select the donation by Individual to house and senate"
   ]
  },
  {
   "cell_type": "code",
   "execution_count": 54,
   "metadata": {},
   "outputs": [
    {
     "name": "stderr",
     "output_type": "stream",
     "text": [
      "C:\\Users\\tejve\\Anaconda3\\lib\\site-packages\\ipykernel_launcher.py:1: UserWarning: Boolean Series key will be reindexed to match DataFrame index.\n",
      "  \"\"\"Entry point for launching an IPython kernel.\n"
     ]
    }
   ],
   "source": [
    "indiv_cm_cn_person_House_senate=indiv_cm_cn_person[(indiv_cm_cn['CMTE_TP']=='S') | (indiv_cm_cn['CMTE_TP']=='H')]"
   ]
  },
  {
   "cell_type": "code",
   "execution_count": 55,
   "metadata": {},
   "outputs": [
    {
     "data": {
      "text/html": [
       "<div>\n",
       "<style>\n",
       "    .dataframe thead tr:only-child th {\n",
       "        text-align: right;\n",
       "    }\n",
       "\n",
       "    .dataframe thead th {\n",
       "        text-align: left;\n",
       "    }\n",
       "\n",
       "    .dataframe tbody tr th {\n",
       "        vertical-align: top;\n",
       "    }\n",
       "</style>\n",
       "<table border=\"1\" class=\"dataframe\">\n",
       "  <thead>\n",
       "    <tr style=\"text-align: right;\">\n",
       "      <th></th>\n",
       "      <th>CMTE_ID</th>\n",
       "      <th>ENTITY_TP</th>\n",
       "      <th>NAME</th>\n",
       "      <th>CITY</th>\n",
       "      <th>STATE</th>\n",
       "      <th>ZIP_CODE</th>\n",
       "      <th>EMPLOYER</th>\n",
       "      <th>OCCUPATION</th>\n",
       "      <th>TRANSACTION_DT</th>\n",
       "      <th>TRANSACTION_AMT</th>\n",
       "      <th>CMTE_TP</th>\n",
       "      <th>CAND_ID</th>\n",
       "      <th>CAND_NAME</th>\n",
       "      <th>CAND_CITY</th>\n",
       "      <th>CAND_ST</th>\n",
       "    </tr>\n",
       "    <tr>\n",
       "      <th>SUB_ID</th>\n",
       "      <th></th>\n",
       "      <th></th>\n",
       "      <th></th>\n",
       "      <th></th>\n",
       "      <th></th>\n",
       "      <th></th>\n",
       "      <th></th>\n",
       "      <th></th>\n",
       "      <th></th>\n",
       "      <th></th>\n",
       "      <th></th>\n",
       "      <th></th>\n",
       "      <th></th>\n",
       "      <th></th>\n",
       "      <th></th>\n",
       "    </tr>\n",
       "  </thead>\n",
       "  <tbody>\n",
       "    <tr>\n",
       "      <th>2012520171368850783</th>\n",
       "      <td>C00629618</td>\n",
       "      <td>IND</td>\n",
       "      <td>PEREZ, JOHN A</td>\n",
       "      <td>LOS ANGELES</td>\n",
       "      <td>CA</td>\n",
       "      <td>90017</td>\n",
       "      <td>PRINCIPAL</td>\n",
       "      <td>DOUBLE NICKEL ADVISORS</td>\n",
       "      <td>1032017.0</td>\n",
       "      <td>40</td>\n",
       "      <td>H</td>\n",
       "      <td>H6CA34245</td>\n",
       "      <td>PEREZ, JOHN A</td>\n",
       "      <td>LOS ANGELES</td>\n",
       "      <td>CA</td>\n",
       "    </tr>\n",
       "    <tr>\n",
       "      <th>4012720171368944039</th>\n",
       "      <td>C00574954</td>\n",
       "      <td>IND</td>\n",
       "      <td>CALLOWAY, DAN</td>\n",
       "      <td>RIVIERA BEACH</td>\n",
       "      <td>FL</td>\n",
       "      <td>33404</td>\n",
       "      <td>NaN</td>\n",
       "      <td>NaN</td>\n",
       "      <td>12302016.0</td>\n",
       "      <td>750</td>\n",
       "      <td>H</td>\n",
       "      <td>H6FL18048</td>\n",
       "      <td>TAYLOR, PRISCILLA ANN</td>\n",
       "      <td>WEST PALM BEACH</td>\n",
       "      <td>FL</td>\n",
       "    </tr>\n",
       "    <tr>\n",
       "      <th>4010920171359688282</th>\n",
       "      <td>C00603126</td>\n",
       "      <td>IND</td>\n",
       "      <td>DELANY, PETER GRAHAM MR. JR</td>\n",
       "      <td>CHARLOTTESVILLE</td>\n",
       "      <td>VA</td>\n",
       "      <td>22906</td>\n",
       "      <td>DEL ROSSO FOR CONGRESS INC.</td>\n",
       "      <td>CAMPAIGN MANAGER</td>\n",
       "      <td>1052017.0</td>\n",
       "      <td>1532</td>\n",
       "      <td>H</td>\n",
       "      <td>H6VA05126</td>\n",
       "      <td>DEL ROSSO, MICHAEL JOSEPH MR.</td>\n",
       "      <td>CHARLOTTESVILLE</td>\n",
       "      <td>VA</td>\n",
       "    </tr>\n",
       "    <tr>\n",
       "      <th>4012720171368948763</th>\n",
       "      <td>C00588871</td>\n",
       "      <td>IND</td>\n",
       "      <td>ANDERSON, MARK MR.</td>\n",
       "      <td>LAKE SHORE</td>\n",
       "      <td>MN</td>\n",
       "      <td>56468</td>\n",
       "      <td>NaN</td>\n",
       "      <td>NaN</td>\n",
       "      <td>1242017.0</td>\n",
       "      <td>-500</td>\n",
       "      <td>H</td>\n",
       "      <td>H4MN08083</td>\n",
       "      <td>MILLS, STEWART MR.</td>\n",
       "      <td>BRAINERD</td>\n",
       "      <td>MN</td>\n",
       "    </tr>\n",
       "    <tr>\n",
       "      <th>4020120171369236609</th>\n",
       "      <td>C00579102</td>\n",
       "      <td>IND</td>\n",
       "      <td>KENT, JORIE</td>\n",
       "      <td>PALM BEACH</td>\n",
       "      <td>FL</td>\n",
       "      <td>334804631</td>\n",
       "      <td>NaN</td>\n",
       "      <td>NaN</td>\n",
       "      <td>1252017.0</td>\n",
       "      <td>-2700</td>\n",
       "      <td>H</td>\n",
       "      <td>H6FL18105</td>\n",
       "      <td>KOZELL, RICK</td>\n",
       "      <td>JUPITER</td>\n",
       "      <td>FL</td>\n",
       "    </tr>\n",
       "  </tbody>\n",
       "</table>\n",
       "</div>"
      ],
      "text/plain": [
       "                       CMTE_ID ENTITY_TP                         NAME  \\\n",
       "SUB_ID                                                                  \n",
       "2012520171368850783  C00629618       IND                PEREZ, JOHN A   \n",
       "4012720171368944039  C00574954       IND                CALLOWAY, DAN   \n",
       "4010920171359688282  C00603126       IND  DELANY, PETER GRAHAM MR. JR   \n",
       "4012720171368948763  C00588871       IND           ANDERSON, MARK MR.   \n",
       "4020120171369236609  C00579102       IND                  KENT, JORIE   \n",
       "\n",
       "                                CITY STATE   ZIP_CODE  \\\n",
       "SUB_ID                                                  \n",
       "2012520171368850783      LOS ANGELES    CA      90017   \n",
       "4012720171368944039    RIVIERA BEACH    FL      33404   \n",
       "4010920171359688282  CHARLOTTESVILLE    VA      22906   \n",
       "4012720171368948763       LAKE SHORE    MN      56468   \n",
       "4020120171369236609       PALM BEACH    FL  334804631   \n",
       "\n",
       "                                        EMPLOYER              OCCUPATION  \\\n",
       "SUB_ID                                                                     \n",
       "2012520171368850783                    PRINCIPAL  DOUBLE NICKEL ADVISORS   \n",
       "4012720171368944039                          NaN                     NaN   \n",
       "4010920171359688282  DEL ROSSO FOR CONGRESS INC.        CAMPAIGN MANAGER   \n",
       "4012720171368948763                          NaN                     NaN   \n",
       "4020120171369236609                          NaN                     NaN   \n",
       "\n",
       "                     TRANSACTION_DT  TRANSACTION_AMT CMTE_TP    CAND_ID  \\\n",
       "SUB_ID                                                                    \n",
       "2012520171368850783       1032017.0               40       H  H6CA34245   \n",
       "4012720171368944039      12302016.0              750       H  H6FL18048   \n",
       "4010920171359688282       1052017.0             1532       H  H6VA05126   \n",
       "4012720171368948763       1242017.0             -500       H  H4MN08083   \n",
       "4020120171369236609       1252017.0            -2700       H  H6FL18105   \n",
       "\n",
       "                                         CAND_NAME        CAND_CITY CAND_ST  \n",
       "SUB_ID                                                                       \n",
       "2012520171368850783                  PEREZ, JOHN A      LOS ANGELES      CA  \n",
       "4012720171368944039          TAYLOR, PRISCILLA ANN  WEST PALM BEACH      FL  \n",
       "4010920171359688282  DEL ROSSO, MICHAEL JOSEPH MR.  CHARLOTTESVILLE      VA  \n",
       "4012720171368948763             MILLS, STEWART MR.         BRAINERD      MN  \n",
       "4020120171369236609                   KOZELL, RICK          JUPITER      FL  "
      ]
     },
     "execution_count": 55,
     "metadata": {},
     "output_type": "execute_result"
    }
   ],
   "source": [
    "indiv_cm_cn_person_House_senate.head()"
   ]
  },
  {
   "cell_type": "markdown",
   "metadata": {},
   "source": [
    "#Select the Individual donation to candidates which are not in their state "
   ]
  },
  {
   "cell_type": "code",
   "execution_count": 56,
   "metadata": {
    "collapsed": true
   },
   "outputs": [],
   "source": [
    "indiv_cm_cn_person_state=indiv_cm_cn_person_House_senate[indiv_cm_cn_person_House_senate['STATE']!=indiv_cm_cn_person_House_senate['CAND_ST']]"
   ]
  },
  {
   "cell_type": "markdown",
   "metadata": {},
   "source": [
    "#Calculate the Total donation by individual"
   ]
  },
  {
   "cell_type": "code",
   "execution_count": 57,
   "metadata": {
    "collapsed": true
   },
   "outputs": [],
   "source": [
    "indiv_cm_cn_person_state_series=(indiv_cm_cn_person_state.groupby(['NAME','STATE','CITY','CAND_ST'])['TRANSACTION_AMT'].sum())"
   ]
  },
  {
   "cell_type": "markdown",
   "metadata": {},
   "source": [
    "#Create a boolean series for individuals who have donated more than 5000$"
   ]
  },
  {
   "cell_type": "code",
   "execution_count": 58,
   "metadata": {},
   "outputs": [
    {
     "data": {
      "text/plain": [
       "NAME                  STATE  CITY                 CAND_ST\n",
       " ALEX                 SC     MOUNT PLEASANT       MO         False\n",
       " ALICE                PA     VILLANOVA            MA         False\n",
       " ANTHONY J MR         NY     BUFFALO              PA         False\n",
       " B                    AZ     TUCSON               NY         False\n",
       " BRENT                TX     DALLAS               CT         False\n",
       " CARLOS               PR     SAN JUAN             IN         False\n",
       " DAVID                HI     CAPTAIN COOK         TX         False\n",
       "                      IL     CHICAO               MO         False\n",
       " DEBORAH              NC     DURHAM               WI         False\n",
       " ELISE                NY     BROOKLYN             CT         False\n",
       " ELLEN                PA     PHILADELPHIA         MA         False\n",
       " EMILE JR             NH     MANCHESTER           MO         False\n",
       " ERIN                 TX     DALLAS               MO         False\n",
       " EZRA                 PA     PHILADELPHIA         MO         False\n",
       " FAHD                 MI     BLOOMFIELD HILLS     SC         False\n",
       " GUIDO                NY     SYRACUSE             CT         False\n",
       " HELEN                WI     MADISON              VA         False\n",
       " HONORA               MO     SAINT LOUIS          WY         False\n",
       " JAMES                CA     OAKLAND              UT         False\n",
       " JAY                  LA     NEW ORLEANS          WI         False\n",
       " JD                   AR     BENTONVILLE          MO         False\n",
       "                      VA     VIENNA               MN         False\n",
       " JEFF S               NY     NEW YORK             SC         False\n",
       " JOE                  LA     NEW ORLEANS          WI         False\n",
       "                      PA     PHILADELPHIA         MA         False\n",
       " JOHN                 CA     SAN PEDRO            DC         False\n",
       "                      IA     BETTENDORF           MN         False\n",
       "                      IL     HIGHLAND PARK        MN         False\n",
       "                      NY     NEW YORK             CT         False\n",
       " JON                  FL     MIAMI                MO         False\n",
       "                                                             ...  \n",
       "ZWEIBEL, ALAN         NJ     CLIFFSIDE PARK       MN         False\n",
       "ZWEIBEL, ELLEN        WI     MADISON              MT         False\n",
       "ZWEIBEL, PATRICIA     DC     WASHINGTON           GA         False\n",
       "                                                  MT         False\n",
       "ZWEIG, MICHAEL        IN     MUNSTER              MN         False\n",
       "ZWENIG, FRANCES       GA     SAINT SIMONS ISLAND  TN         False\n",
       "ZWERDLING, VICKI      MA     BOSTON               PA         False\n",
       "ZWERLING, JEFFREY     NY     NEW YORK             GA         False\n",
       "ZWERLING, ZHARA       WA     SNOQUALMIE           CO         False\n",
       "ZWETZIG, RUDOLPH      IL     WHEATON              WI         False\n",
       "ZWETZIG, RUDOLPH P    IL     WHEATON              MA         False\n",
       "ZWICK, EDWARD         CA     LOS ANGELES          NM         False\n",
       "ZWICKER, THOMAS       CT     HAMDEN               GA         False\n",
       "ZWIEBEL, GAIL D       CO     CENTENNIAL           FL         False\n",
       "ZWIERS, SABRA         CA     REDWOOD CITY         TX         False\n",
       "ZWILLENBERG, MELVIN   NJ     MAPLEWOOD            GA         False\n",
       "ZWIRNER, RICHARD T    IL     BANNOCKBURN          MI         False\n",
       "ZWOLINSKI, FRANK      CA     SANTA ROSA           MO         False\n",
       "ZYGIELBAUM, ARTHUR    NE     LINCOLN              GA         False\n",
       "ZYGIELBAUM, MICHELLE  CA     SANTA ROSA           NY         False\n",
       "ZYGIELBAUM, PAUL      CA     SANTA ROSA           GA         False\n",
       "                                                  IL         False\n",
       "                                                  IN         False\n",
       "                                                  MN         False\n",
       "                                                  RI         False\n",
       "                                                  WA         False\n",
       "ZYGIELBAUM, PAUL S    CA     SANTA ROSA           OH          True\n",
       "                                                  VA         False\n",
       "ZYONTZ, LARRY         NJ     MONMOUTH JUNCTION    GA         False\n",
       "ZYSMAN, NADINE        CA     SANTA MONICA         NY         False\n",
       "Name: TRANSACTION_AMT, Length: 100419, dtype: bool"
      ]
     },
     "execution_count": 58,
     "metadata": {},
     "output_type": "execute_result"
    }
   ],
   "source": [
    "indiv_cm_cn_person_state_series>5000"
   ]
  },
  {
   "cell_type": "markdown",
   "metadata": {},
   "source": [
    "#Final output :All the individuals who have donated money outside their state"
   ]
  },
  {
   "cell_type": "code",
   "execution_count": 59,
   "metadata": {},
   "outputs": [
    {
     "data": {
      "text/plain": [
       "NAME                  STATE  CITY               CAND_ST\n",
       " ROBERTO              PR     CAROLINA           IN         10800\n",
       " VAUGHN II            TX     DALLAS             CT          6800\n",
       "AARONSON, PAULA       TX     AUSTIN             WI         10800\n",
       "ABDOO, RICHARD A      WI     MILWAUKEE          OH         12100\n",
       "ABDULLAH, YASIN ABIB  OH     HILLIARD           MN          5400\n",
       "ABERLY, NAOMI         MA     BOSTON             TX          5200\n",
       "                                                WI         10800\n",
       "ABERLY, NAOMI D       MA     BOSTON             OH          5400\n",
       "ABOUSSIE, JOYCE       MO     SAINT LOUIS        CA          5400\n",
       "                                                MI          5400\n",
       "ABRAMONS, RONALD      DC     WASHINGTON         CA          5900\n",
       "ABRAMS, JAMES D       IL     HIGHLAND PARK      MT          5400\n",
       "ABRAMS, JEFFREY       CA     ENCINO             DC         21600\n",
       "                                                MO          5400\n",
       "ABRAMS, JEFFREY J     CA     SANTA MONICA       OH         10800\n",
       "ABRAMS, WENDY         IL     HIGHLAND PARK      WI          5400\n",
       "ABRAMSON, ANNE        DC     WASHINGTON         CA         11300\n",
       "                                                MT          5400\n",
       "ABRAMSON, JEFFREY     MD     BETHESDA           OH          5400\n",
       "ABRAMSON, RONA        MD     BETHESDA           OH          5400\n",
       "ABRAMSON, RONALD      DC     WASHINGTON         CA          6900\n",
       "                                                MT          7500\n",
       "                                                NM          5400\n",
       "ABRAMSON, RONALD D.   DC     WASHINGTON         CA          6400\n",
       "ACKMAN, WILLIAM       NY     NEW YORK           MT          5400\n",
       "                                                ND          5400\n",
       "ADAN, ABDI            OH     COLUMBUS           MN          5400\n",
       "ADELSON, MIRIAM       NV     LAS VEGAS          NE          5400\n",
       "ADELSON, MIRIAM DR.   NV     LAS VEGAS          CA          5400\n",
       "ADELSON, MIRIAN DR    NV     LAS VEGAS          MS          5400\n",
       "                                                           ...  \n",
       "ZAKEN, JORDAN         NY     SCARSDALE          NJ          5400\n",
       "ZAKEN, LINDSAY        NY     SCARSDALE          NJ          5400\n",
       "ZAKIN, JACQUES L      OH     DUBLIN             MT          7260\n",
       "ZAMORE, PHILLIP D.    MA     NORTHBOROUGH       IL          5400\n",
       "ZANDI, MARK MANSSUR   PA     MALVERN            OH          5400\n",
       "ZAPIEN, EDUARDO       VA     FALLS CHURCH       NJ          5400\n",
       "ZAPOLSKY, DAVID       WA     SEATTLE            PA          5400\n",
       "ZASLAV, DAVID         NY     NEW YORK           NM          5400\n",
       "ZASLAV, PAM           NY     NEW YORK           NM          5400\n",
       "ZELCS, GEORGE         IL     BARRINGTON         WA          5400\n",
       "                             CHICAGO            IN          5400\n",
       "ZELCS, GEORGE A       IL     CHICAGO            MT          5400\n",
       "ZELDEN, KAREN         IL     WINNETKA           GA          7700\n",
       "ZIERING, IRA          CA     PACIFIC PALISADES  OH          5400\n",
       "ZIFF, ROBERT          NY     NEW YORK           NJ          5400\n",
       "ZIRKIN, NANCY         MD     CHEVY CHASE        MT          5400\n",
       "ZISES, SELIG A        FL     PALM BEACH         CA          5400\n",
       "                      NY     NEW YORK           OH         10800\n",
       "ZISES, SELIG A.       FL     PALM BEACH         MO          5400\n",
       "ZITELLI, MARK         FL     MIAMI              NY          5400\n",
       "ZOLDAN, GERALD        IL     CHICAGO            OH          5400\n",
       "ZOLEY, GEORGE         FL     BOCA RATON         TX          5400\n",
       "ZOLEY, GEORGE C       FL     BOCA RATON         DC          5400\n",
       "ZOLEY, GEORGE C.      FL     BOCA RATON         TX          5400\n",
       "ZOLMAN, ANNIE         UT     ALPINE             MT          5400\n",
       "ZOLMAN, STEVE         UT     ALPINE             MT          5400\n",
       "ZUBERI, IMAAD         CA     SOUTH EL MONTE     NY          5400\n",
       "ZUBERI, IMAAD MR.     CA     SOUTH EL MONTE     VA          5400\n",
       "ZWANZIGER, RON        MA     WEST NEWTON        FL          5400\n",
       "ZYGIELBAUM, PAUL S    CA     SANTA ROSA         OH          5400\n",
       "Name: TRANSACTION_AMT, Length: 3769, dtype: int32"
      ]
     },
     "execution_count": 59,
     "metadata": {},
     "output_type": "execute_result"
    }
   ],
   "source": [
    "indiv_cm_cn_person_state_series[indiv_cm_cn_person_state_series>5000]"
   ]
  },
  {
   "cell_type": "code",
   "execution_count": null,
   "metadata": {
    "collapsed": true
   },
   "outputs": [],
   "source": []
  },
  {
   "cell_type": "code",
   "execution_count": null,
   "metadata": {
    "collapsed": true
   },
   "outputs": [],
   "source": []
  },
  {
   "cell_type": "code",
   "execution_count": null,
   "metadata": {
    "collapsed": true
   },
   "outputs": [],
   "source": []
  },
  {
   "cell_type": "code",
   "execution_count": null,
   "metadata": {
    "collapsed": true
   },
   "outputs": [],
   "source": []
  },
  {
   "cell_type": "code",
   "execution_count": null,
   "metadata": {
    "collapsed": true
   },
   "outputs": [],
   "source": []
  },
  {
   "cell_type": "code",
   "execution_count": null,
   "metadata": {
    "collapsed": true
   },
   "outputs": [],
   "source": []
  }
 ],
 "metadata": {
  "kernelspec": {
   "display_name": "Python 3",
   "language": "python",
   "name": "python3"
  },
  "language_info": {
   "codemirror_mode": {
    "name": "ipython",
    "version": 3
   },
   "file_extension": ".py",
   "mimetype": "text/x-python",
   "name": "python",
   "nbconvert_exporter": "python",
   "pygments_lexer": "ipython3",
   "version": "3.6.1"
  }
 },
 "nbformat": 4,
 "nbformat_minor": 2
}
